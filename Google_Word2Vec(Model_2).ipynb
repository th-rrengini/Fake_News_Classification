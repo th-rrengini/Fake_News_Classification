{
 "cells": [
  {
   "cell_type": "markdown",
   "id": "4e7327e6",
   "metadata": {},
   "source": [
    "#### 2CNN + 2LSTM Layers \n",
    "#### Stop word removal, Lemmatization\n",
    "#### Google Word2Vec, 300 vectors per word"
   ]
  },
  {
   "cell_type": "code",
   "execution_count": null,
   "id": "7581fad5",
   "metadata": {
    "id": "7581fad5"
   },
   "outputs": [],
   "source": [
    "#import necessary parameters\n",
    "import pandas as pd\n",
    "import numpy as np\n",
    "import matplotlib.pyplot as plt\n",
    "import re"
   ]
  },
  {
   "cell_type": "code",
   "execution_count": null,
   "id": "tTjVFl-KJQRq",
   "metadata": {
    "colab": {
     "base_uri": "https://localhost:8080/"
    },
    "executionInfo": {
     "elapsed": 2495,
     "status": "ok",
     "timestamp": 1686353415363,
     "user": {
      "displayName": "Harish Sundaralingam",
      "userId": "10841756153612022352"
     },
     "user_tz": 240
    },
    "id": "tTjVFl-KJQRq",
    "outputId": "ecda4888-deb2-40ad-f154-9d06708ca5de"
   },
   "outputs": [
    {
     "name": "stdout",
     "output_type": "stream",
     "text": [
      "Drive already mounted at /content/drive; to attempt to forcibly remount, call drive.mount(\"/content/drive\", force_remount=True).\n"
     ]
    }
   ],
   "source": [
    "from google.colab import drive\n",
    "drive.mount('/content/drive')"
   ]
  },
  {
   "cell_type": "code",
   "execution_count": null,
   "id": "1418d76b",
   "metadata": {
    "id": "1418d76b"
   },
   "outputs": [],
   "source": [
    "df = pd.read_csv('/content/drive/MyDrive/ProjectFakeNews/processed_fake_news.csv') # import the preprocessed dataset"
   ]
  },
  {
   "cell_type": "code",
   "execution_count": null,
   "id": "56f239fa",
   "metadata": {
    "colab": {
     "base_uri": "https://localhost:8080/"
    },
    "executionInfo": {
     "elapsed": 14,
     "status": "ok",
     "timestamp": 1686353433218,
     "user": {
      "displayName": "Harish Sundaralingam",
      "userId": "10841756153612022352"
     },
     "user_tz": 240
    },
    "id": "56f239fa",
    "outputId": "597bfea2-70fd-44d3-947c-5b73dfac0611"
   },
   "outputs": [
    {
     "name": "stdout",
     "output_type": "stream",
     "text": [
      "<class 'pandas.core.frame.DataFrame'>\n",
      "RangeIndex: 72134 entries, 0 to 72133\n",
      "Data columns (total 6 columns):\n",
      " #   Column       Non-Null Count  Dtype \n",
      "---  ------       --------------  ----- \n",
      " 0   Unnamed: 0   72134 non-null  int64 \n",
      " 1   text         72095 non-null  object\n",
      " 2   label        72134 non-null  int64 \n",
      " 3   lemm_sent    72134 non-null  object\n",
      " 4   rephrased    72134 non-null  object\n",
      " 5   joined_lemm  71350 non-null  object\n",
      "dtypes: int64(2), object(4)\n",
      "memory usage: 3.3+ MB\n"
     ]
    }
   ],
   "source": [
    "df.info()"
   ]
  },
  {
   "cell_type": "code",
   "execution_count": null,
   "id": "d94d0b83",
   "metadata": {
    "colab": {
     "base_uri": "https://localhost:8080/",
     "height": 333
    },
    "executionInfo": {
     "elapsed": 9,
     "status": "ok",
     "timestamp": 1686353433218,
     "user": {
      "displayName": "Harish Sundaralingam",
      "userId": "10841756153612022352"
     },
     "user_tz": 240
    },
    "id": "d94d0b83",
    "outputId": "a8935534-543b-4c42-b237-a559024d17fd"
   },
   "outputs": [
    {
     "data": {
      "text/html": [
       "\n",
       "  <div id=\"df-42e1af32-5bb6-4245-bc5f-a95ab89fd0a2\">\n",
       "    <div class=\"colab-df-container\">\n",
       "      <div>\n",
       "<style scoped>\n",
       "    .dataframe tbody tr th:only-of-type {\n",
       "        vertical-align: middle;\n",
       "    }\n",
       "\n",
       "    .dataframe tbody tr th {\n",
       "        vertical-align: top;\n",
       "    }\n",
       "\n",
       "    .dataframe thead th {\n",
       "        text-align: right;\n",
       "    }\n",
       "</style>\n",
       "<table border=\"1\" class=\"dataframe\">\n",
       "  <thead>\n",
       "    <tr style=\"text-align: right;\">\n",
       "      <th></th>\n",
       "      <th>Unnamed: 0</th>\n",
       "      <th>text</th>\n",
       "      <th>label</th>\n",
       "      <th>lemm_sent</th>\n",
       "      <th>rephrased</th>\n",
       "      <th>joined_lemm</th>\n",
       "    </tr>\n",
       "  </thead>\n",
       "  <tbody>\n",
       "    <tr>\n",
       "      <th>0</th>\n",
       "      <td>0</td>\n",
       "      <td>No comment is expected from Barack Obama Membe...</td>\n",
       "      <td>1</td>\n",
       "      <td>['comment', 'expect', 'barack', 'obama', 'memb...</td>\n",
       "      <td>['comment', 'expect', 'barack_obama', 'member'...</td>\n",
       "      <td>comment expect barack_obama member fyf911 fuky...</td>\n",
       "    </tr>\n",
       "    <tr>\n",
       "      <th>1</th>\n",
       "      <td>1</td>\n",
       "      <td>Did they post their votes for Hillary already?</td>\n",
       "      <td>1</td>\n",
       "      <td>['post', 'vote', 'hillary']</td>\n",
       "      <td>['post', 'vote_hillary']</td>\n",
       "      <td>post vote_hillary</td>\n",
       "    </tr>\n",
       "    <tr>\n",
       "      <th>2</th>\n",
       "      <td>2</td>\n",
       "      <td>Now, most of the demonstrators gathered last ...</td>\n",
       "      <td>1</td>\n",
       "      <td>['demonstrator', 'gather', 'night', 'exercise'...</td>\n",
       "      <td>['demonstrator_gather', 'night', 'exercise_con...</td>\n",
       "      <td>demonstrator_gather night exercise_constitutio...</td>\n",
       "    </tr>\n",
       "    <tr>\n",
       "      <th>3</th>\n",
       "      <td>3</td>\n",
       "      <td>A dozen politically active pastors came here f...</td>\n",
       "      <td>0</td>\n",
       "      <td>['dozen', 'politically', 'active', 'pastor', '...</td>\n",
       "      <td>['dozen', 'politically_active', 'pastor', 'com...</td>\n",
       "      <td>dozen politically_active pastor come private_d...</td>\n",
       "    </tr>\n",
       "    <tr>\n",
       "      <th>4</th>\n",
       "      <td>4</td>\n",
       "      <td>The RS-28 Sarmat missile, dubbed Satan 2, will...</td>\n",
       "      <td>1</td>\n",
       "      <td>['rs-28', 'sarmat', 'missile', 'dub', 'satan',...</td>\n",
       "      <td>['rs-28_sarmat', 'missile_dub', 'satan_2', 're...</td>\n",
       "      <td>rs-28_sarmat missile_dub satan_2 replace_ss-18...</td>\n",
       "    </tr>\n",
       "  </tbody>\n",
       "</table>\n",
       "</div>\n",
       "      <button class=\"colab-df-convert\" onclick=\"convertToInteractive('df-42e1af32-5bb6-4245-bc5f-a95ab89fd0a2')\"\n",
       "              title=\"Convert this dataframe to an interactive table.\"\n",
       "              style=\"display:none;\">\n",
       "        \n",
       "  <svg xmlns=\"http://www.w3.org/2000/svg\" height=\"24px\"viewBox=\"0 0 24 24\"\n",
       "       width=\"24px\">\n",
       "    <path d=\"M0 0h24v24H0V0z\" fill=\"none\"/>\n",
       "    <path d=\"M18.56 5.44l.94 2.06.94-2.06 2.06-.94-2.06-.94-.94-2.06-.94 2.06-2.06.94zm-11 1L8.5 8.5l.94-2.06 2.06-.94-2.06-.94L8.5 2.5l-.94 2.06-2.06.94zm10 10l.94 2.06.94-2.06 2.06-.94-2.06-.94-.94-2.06-.94 2.06-2.06.94z\"/><path d=\"M17.41 7.96l-1.37-1.37c-.4-.4-.92-.59-1.43-.59-.52 0-1.04.2-1.43.59L10.3 9.45l-7.72 7.72c-.78.78-.78 2.05 0 2.83L4 21.41c.39.39.9.59 1.41.59.51 0 1.02-.2 1.41-.59l7.78-7.78 2.81-2.81c.8-.78.8-2.07 0-2.86zM5.41 20L4 18.59l7.72-7.72 1.47 1.35L5.41 20z\"/>\n",
       "  </svg>\n",
       "      </button>\n",
       "      \n",
       "  <style>\n",
       "    .colab-df-container {\n",
       "      display:flex;\n",
       "      flex-wrap:wrap;\n",
       "      gap: 12px;\n",
       "    }\n",
       "\n",
       "    .colab-df-convert {\n",
       "      background-color: #E8F0FE;\n",
       "      border: none;\n",
       "      border-radius: 50%;\n",
       "      cursor: pointer;\n",
       "      display: none;\n",
       "      fill: #1967D2;\n",
       "      height: 32px;\n",
       "      padding: 0 0 0 0;\n",
       "      width: 32px;\n",
       "    }\n",
       "\n",
       "    .colab-df-convert:hover {\n",
       "      background-color: #E2EBFA;\n",
       "      box-shadow: 0px 1px 2px rgba(60, 64, 67, 0.3), 0px 1px 3px 1px rgba(60, 64, 67, 0.15);\n",
       "      fill: #174EA6;\n",
       "    }\n",
       "\n",
       "    [theme=dark] .colab-df-convert {\n",
       "      background-color: #3B4455;\n",
       "      fill: #D2E3FC;\n",
       "    }\n",
       "\n",
       "    [theme=dark] .colab-df-convert:hover {\n",
       "      background-color: #434B5C;\n",
       "      box-shadow: 0px 1px 3px 1px rgba(0, 0, 0, 0.15);\n",
       "      filter: drop-shadow(0px 1px 2px rgba(0, 0, 0, 0.3));\n",
       "      fill: #FFFFFF;\n",
       "    }\n",
       "  </style>\n",
       "\n",
       "      <script>\n",
       "        const buttonEl =\n",
       "          document.querySelector('#df-42e1af32-5bb6-4245-bc5f-a95ab89fd0a2 button.colab-df-convert');\n",
       "        buttonEl.style.display =\n",
       "          google.colab.kernel.accessAllowed ? 'block' : 'none';\n",
       "\n",
       "        async function convertToInteractive(key) {\n",
       "          const element = document.querySelector('#df-42e1af32-5bb6-4245-bc5f-a95ab89fd0a2');\n",
       "          const dataTable =\n",
       "            await google.colab.kernel.invokeFunction('convertToInteractive',\n",
       "                                                     [key], {});\n",
       "          if (!dataTable) return;\n",
       "\n",
       "          const docLinkHtml = 'Like what you see? Visit the ' +\n",
       "            '<a target=\"_blank\" href=https://colab.research.google.com/notebooks/data_table.ipynb>data table notebook</a>'\n",
       "            + ' to learn more about interactive tables.';\n",
       "          element.innerHTML = '';\n",
       "          dataTable['output_type'] = 'display_data';\n",
       "          await google.colab.output.renderOutput(dataTable, element);\n",
       "          const docLink = document.createElement('div');\n",
       "          docLink.innerHTML = docLinkHtml;\n",
       "          element.appendChild(docLink);\n",
       "        }\n",
       "      </script>\n",
       "    </div>\n",
       "  </div>\n",
       "  "
      ],
      "text/plain": [
       "   Unnamed: 0                                               text  label  \\\n",
       "0           0  No comment is expected from Barack Obama Membe...      1   \n",
       "1           1     Did they post their votes for Hillary already?      1   \n",
       "2           2   Now, most of the demonstrators gathered last ...      1   \n",
       "3           3  A dozen politically active pastors came here f...      0   \n",
       "4           4  The RS-28 Sarmat missile, dubbed Satan 2, will...      1   \n",
       "\n",
       "                                           lemm_sent  \\\n",
       "0  ['comment', 'expect', 'barack', 'obama', 'memb...   \n",
       "1                        ['post', 'vote', 'hillary']   \n",
       "2  ['demonstrator', 'gather', 'night', 'exercise'...   \n",
       "3  ['dozen', 'politically', 'active', 'pastor', '...   \n",
       "4  ['rs-28', 'sarmat', 'missile', 'dub', 'satan',...   \n",
       "\n",
       "                                           rephrased  \\\n",
       "0  ['comment', 'expect', 'barack_obama', 'member'...   \n",
       "1                           ['post', 'vote_hillary']   \n",
       "2  ['demonstrator_gather', 'night', 'exercise_con...   \n",
       "3  ['dozen', 'politically_active', 'pastor', 'com...   \n",
       "4  ['rs-28_sarmat', 'missile_dub', 'satan_2', 're...   \n",
       "\n",
       "                                         joined_lemm  \n",
       "0  comment expect barack_obama member fyf911 fuky...  \n",
       "1                                  post vote_hillary  \n",
       "2  demonstrator_gather night exercise_constitutio...  \n",
       "3  dozen politically_active pastor come private_d...  \n",
       "4  rs-28_sarmat missile_dub satan_2 replace_ss-18...  "
      ]
     },
     "execution_count": 5,
     "metadata": {},
     "output_type": "execute_result"
    }
   ],
   "source": [
    "df.head()"
   ]
  },
  {
   "cell_type": "code",
   "execution_count": null,
   "id": "27040711",
   "metadata": {
    "id": "27040711"
   },
   "outputs": [],
   "source": [
    "df['lemm_sent'] = df.lemm_sent.apply(lambda x: eval(x))\n",
    "# convert the lemm_sent colum back to list, as it is saved as a string."
   ]
  },
  {
   "cell_type": "code",
   "execution_count": null,
   "id": "a58cf7d4",
   "metadata": {
    "id": "a58cf7d4"
   },
   "outputs": [],
   "source": [
    "df['lemm_sent'] = df['lemm_sent'].apply(lambda x: ' '.join([str((i)) for i in x]))\n",
    "# join the tokens to make a sentence"
   ]
  },
  {
   "cell_type": "code",
   "execution_count": null,
   "id": "d64384e2",
   "metadata": {
    "id": "d64384e2"
   },
   "outputs": [],
   "source": [
    "# drop unnecessary columns\n",
    "df.drop(labels=['text','rephrased','joined_lemm'], axis='columns', inplace=True)"
   ]
  },
  {
   "cell_type": "code",
   "execution_count": null,
   "id": "d7ebdc40",
   "metadata": {
    "colab": {
     "base_uri": "https://localhost:8080/",
     "height": 204
    },
    "executionInfo": {
     "elapsed": 10,
     "status": "ok",
     "timestamp": 1686353475520,
     "user": {
      "displayName": "Harish Sundaralingam",
      "userId": "10841756153612022352"
     },
     "user_tz": 240
    },
    "id": "d7ebdc40",
    "outputId": "4d253514-b8b5-4924-9ed0-1e1521af7988"
   },
   "outputs": [
    {
     "data": {
      "text/html": [
       "\n",
       "  <div id=\"df-51c25fd8-fdc1-4f24-905c-bbea2a38b322\">\n",
       "    <div class=\"colab-df-container\">\n",
       "      <div>\n",
       "<style scoped>\n",
       "    .dataframe tbody tr th:only-of-type {\n",
       "        vertical-align: middle;\n",
       "    }\n",
       "\n",
       "    .dataframe tbody tr th {\n",
       "        vertical-align: top;\n",
       "    }\n",
       "\n",
       "    .dataframe thead th {\n",
       "        text-align: right;\n",
       "    }\n",
       "</style>\n",
       "<table border=\"1\" class=\"dataframe\">\n",
       "  <thead>\n",
       "    <tr style=\"text-align: right;\">\n",
       "      <th></th>\n",
       "      <th>Unnamed: 0</th>\n",
       "      <th>label</th>\n",
       "      <th>lemm_sent</th>\n",
       "    </tr>\n",
       "  </thead>\n",
       "  <tbody>\n",
       "    <tr>\n",
       "      <th>0</th>\n",
       "      <td>0</td>\n",
       "      <td>1</td>\n",
       "      <td>comment expect barack obama member fyf911 fuky...</td>\n",
       "    </tr>\n",
       "    <tr>\n",
       "      <th>1</th>\n",
       "      <td>1</td>\n",
       "      <td>1</td>\n",
       "      <td>post vote hillary</td>\n",
       "    </tr>\n",
       "    <tr>\n",
       "      <th>2</th>\n",
       "      <td>2</td>\n",
       "      <td>1</td>\n",
       "      <td>demonstrator gather night exercise constitutio...</td>\n",
       "    </tr>\n",
       "    <tr>\n",
       "      <th>3</th>\n",
       "      <td>3</td>\n",
       "      <td>0</td>\n",
       "      <td>dozen politically active pastor come private d...</td>\n",
       "    </tr>\n",
       "    <tr>\n",
       "      <th>4</th>\n",
       "      <td>4</td>\n",
       "      <td>1</td>\n",
       "      <td>rs-28 sarmat missile dub satan 2 replace ss-18...</td>\n",
       "    </tr>\n",
       "  </tbody>\n",
       "</table>\n",
       "</div>\n",
       "      <button class=\"colab-df-convert\" onclick=\"convertToInteractive('df-51c25fd8-fdc1-4f24-905c-bbea2a38b322')\"\n",
       "              title=\"Convert this dataframe to an interactive table.\"\n",
       "              style=\"display:none;\">\n",
       "        \n",
       "  <svg xmlns=\"http://www.w3.org/2000/svg\" height=\"24px\"viewBox=\"0 0 24 24\"\n",
       "       width=\"24px\">\n",
       "    <path d=\"M0 0h24v24H0V0z\" fill=\"none\"/>\n",
       "    <path d=\"M18.56 5.44l.94 2.06.94-2.06 2.06-.94-2.06-.94-.94-2.06-.94 2.06-2.06.94zm-11 1L8.5 8.5l.94-2.06 2.06-.94-2.06-.94L8.5 2.5l-.94 2.06-2.06.94zm10 10l.94 2.06.94-2.06 2.06-.94-2.06-.94-.94-2.06-.94 2.06-2.06.94z\"/><path d=\"M17.41 7.96l-1.37-1.37c-.4-.4-.92-.59-1.43-.59-.52 0-1.04.2-1.43.59L10.3 9.45l-7.72 7.72c-.78.78-.78 2.05 0 2.83L4 21.41c.39.39.9.59 1.41.59.51 0 1.02-.2 1.41-.59l7.78-7.78 2.81-2.81c.8-.78.8-2.07 0-2.86zM5.41 20L4 18.59l7.72-7.72 1.47 1.35L5.41 20z\"/>\n",
       "  </svg>\n",
       "      </button>\n",
       "      \n",
       "  <style>\n",
       "    .colab-df-container {\n",
       "      display:flex;\n",
       "      flex-wrap:wrap;\n",
       "      gap: 12px;\n",
       "    }\n",
       "\n",
       "    .colab-df-convert {\n",
       "      background-color: #E8F0FE;\n",
       "      border: none;\n",
       "      border-radius: 50%;\n",
       "      cursor: pointer;\n",
       "      display: none;\n",
       "      fill: #1967D2;\n",
       "      height: 32px;\n",
       "      padding: 0 0 0 0;\n",
       "      width: 32px;\n",
       "    }\n",
       "\n",
       "    .colab-df-convert:hover {\n",
       "      background-color: #E2EBFA;\n",
       "      box-shadow: 0px 1px 2px rgba(60, 64, 67, 0.3), 0px 1px 3px 1px rgba(60, 64, 67, 0.15);\n",
       "      fill: #174EA6;\n",
       "    }\n",
       "\n",
       "    [theme=dark] .colab-df-convert {\n",
       "      background-color: #3B4455;\n",
       "      fill: #D2E3FC;\n",
       "    }\n",
       "\n",
       "    [theme=dark] .colab-df-convert:hover {\n",
       "      background-color: #434B5C;\n",
       "      box-shadow: 0px 1px 3px 1px rgba(0, 0, 0, 0.15);\n",
       "      filter: drop-shadow(0px 1px 2px rgba(0, 0, 0, 0.3));\n",
       "      fill: #FFFFFF;\n",
       "    }\n",
       "  </style>\n",
       "\n",
       "      <script>\n",
       "        const buttonEl =\n",
       "          document.querySelector('#df-51c25fd8-fdc1-4f24-905c-bbea2a38b322 button.colab-df-convert');\n",
       "        buttonEl.style.display =\n",
       "          google.colab.kernel.accessAllowed ? 'block' : 'none';\n",
       "\n",
       "        async function convertToInteractive(key) {\n",
       "          const element = document.querySelector('#df-51c25fd8-fdc1-4f24-905c-bbea2a38b322');\n",
       "          const dataTable =\n",
       "            await google.colab.kernel.invokeFunction('convertToInteractive',\n",
       "                                                     [key], {});\n",
       "          if (!dataTable) return;\n",
       "\n",
       "          const docLinkHtml = 'Like what you see? Visit the ' +\n",
       "            '<a target=\"_blank\" href=https://colab.research.google.com/notebooks/data_table.ipynb>data table notebook</a>'\n",
       "            + ' to learn more about interactive tables.';\n",
       "          element.innerHTML = '';\n",
       "          dataTable['output_type'] = 'display_data';\n",
       "          await google.colab.output.renderOutput(dataTable, element);\n",
       "          const docLink = document.createElement('div');\n",
       "          docLink.innerHTML = docLinkHtml;\n",
       "          element.appendChild(docLink);\n",
       "        }\n",
       "      </script>\n",
       "    </div>\n",
       "  </div>\n",
       "  "
      ],
      "text/plain": [
       "   Unnamed: 0  label                                          lemm_sent\n",
       "0           0      1  comment expect barack obama member fyf911 fuky...\n",
       "1           1      1                                  post vote hillary\n",
       "2           2      1  demonstrator gather night exercise constitutio...\n",
       "3           3      0  dozen politically active pastor come private d...\n",
       "4           4      1  rs-28 sarmat missile dub satan 2 replace ss-18..."
      ]
     },
     "execution_count": 9,
     "metadata": {},
     "output_type": "execute_result"
    }
   ],
   "source": [
    "df.head()"
   ]
  },
  {
   "cell_type": "code",
   "execution_count": null,
   "id": "ffe17c6b",
   "metadata": {
    "colab": {
     "base_uri": "https://localhost:8080/"
    },
    "executionInfo": {
     "elapsed": 10,
     "status": "ok",
     "timestamp": 1686353475521,
     "user": {
      "displayName": "Harish Sundaralingam",
      "userId": "10841756153612022352"
     },
     "user_tz": 240
    },
    "id": "ffe17c6b",
    "outputId": "9b5bae4d-a7dd-4c66-c5ec-509c8b3fab48"
   },
   "outputs": [
    {
     "data": {
      "text/plain": [
       "Unnamed: 0    0\n",
       "label         0\n",
       "lemm_sent     0\n",
       "dtype: int64"
      ]
     },
     "execution_count": 10,
     "metadata": {},
     "output_type": "execute_result"
    }
   ],
   "source": [
    "df.isna().sum() # check for any null values in the dataset"
   ]
  },
  {
   "cell_type": "code",
   "execution_count": null,
   "id": "200e5eea",
   "metadata": {
    "colab": {
     "base_uri": "https://localhost:8080/"
    },
    "executionInfo": {
     "elapsed": 6,
     "status": "ok",
     "timestamp": 1686353475521,
     "user": {
      "displayName": "Harish Sundaralingam",
      "userId": "10841756153612022352"
     },
     "user_tz": 240
    },
    "id": "200e5eea",
    "outputId": "66a93241-7647-44d5-d6fe-1922c63bdd1b"
   },
   "outputs": [
    {
     "data": {
      "text/plain": [
       "0"
      ]
     },
     "execution_count": 11,
     "metadata": {},
     "output_type": "execute_result"
    }
   ],
   "source": [
    "#invoke garbage collector to free ram\n",
    "import gc\n",
    "gc.collect()"
   ]
  },
  {
   "cell_type": "code",
   "execution_count": null,
   "id": "47182e98",
   "metadata": {
    "id": "47182e98"
   },
   "outputs": [],
   "source": [
    "from gensim.models.keyedvectors import KeyedVectors"
   ]
  },
  {
   "cell_type": "code",
   "execution_count": null,
   "id": "4cf01726",
   "metadata": {
    "id": "4cf01726"
   },
   "outputs": [],
   "source": [
    "# load the google word2vec model to word_vectors\n",
    "word_vectors = KeyedVectors.load_word2vec_format(r'/content/drive/MyDrive/ProjectFakeNews/GoogleNews-vectors-negative300.bin',binary=True)"
   ]
  },
  {
   "cell_type": "code",
   "execution_count": null,
   "id": "61c29c22",
   "metadata": {
    "colab": {
     "base_uri": "https://localhost:8080/"
    },
    "executionInfo": {
     "elapsed": 5122,
     "status": "ok",
     "timestamp": 1686353520964,
     "user": {
      "displayName": "Harish Sundaralingam",
      "userId": "10841756153612022352"
     },
     "user_tz": 240
    },
    "id": "61c29c22",
    "outputId": "126bb9f8-eec8-40cb-bc45-729e48160582"
   },
   "outputs": [
    {
     "data": {
      "text/plain": [
       "[('computers', 0.7979379892349243),\n",
       " ('laptop', 0.6640493273735046),\n",
       " ('laptop_computer', 0.6548868417739868),\n",
       " ('Computer', 0.647333562374115),\n",
       " ('com_puter', 0.6082080006599426),\n",
       " ('technician_Leonard_Luchko', 0.5662748217582703),\n",
       " ('mainframes_minicomputers', 0.5617720484733582),\n",
       " ('laptop_computers', 0.5585449934005737),\n",
       " ('PC', 0.5539618730545044),\n",
       " ('maker_Dell_DELL.O', 0.5519254207611084)]"
      ]
     },
     "execution_count": 14,
     "metadata": {},
     "output_type": "execute_result"
    }
   ],
   "source": [
    "# checking similar words to a word\n",
    "word_vectors.most_similar('computer')"
   ]
  },
  {
   "cell_type": "code",
   "execution_count": null,
   "id": "521b3081",
   "metadata": {
    "colab": {
     "base_uri": "https://localhost:8080/"
    },
    "executionInfo": {
     "elapsed": 4,
     "status": "ok",
     "timestamp": 1686353520964,
     "user": {
      "displayName": "Harish Sundaralingam",
      "userId": "10841756153612022352"
     },
     "user_tz": 240
    },
    "id": "521b3081",
    "outputId": "29436ae2-dabf-46dd-ffe1-4cf93eb37231"
   },
   "outputs": [
    {
     "name": "stdout",
     "output_type": "stream",
     "text": [
      "Found 72134 texts.\n"
     ]
    }
   ],
   "source": [
    "texts = df['lemm_sent']\n",
    "labels = df['label']\n",
    "\n",
    "print('Found %s texts.' %texts.shape[0])"
   ]
  },
  {
   "cell_type": "code",
   "execution_count": null,
   "id": "624baaf6",
   "metadata": {
    "id": "624baaf6"
   },
   "outputs": [],
   "source": [
    "from tensorflow.keras.preprocessing.text import Tokenizer\n",
    "from tensorflow.keras.utils import pad_sequences"
   ]
  },
  {
   "cell_type": "code",
   "execution_count": null,
   "id": "b09d2da9",
   "metadata": {
    "id": "b09d2da9"
   },
   "outputs": [],
   "source": [
    "# setting our embedding parameters\n",
    "# MAX_NUM_WORDS = 1000\n",
    "EMBEDDING_DIM = 300\n",
    "TEST_SPLIT = 0.2"
   ]
  },
  {
   "cell_type": "code",
   "execution_count": null,
   "id": "a572f96b",
   "metadata": {
    "colab": {
     "base_uri": "https://localhost:8080/"
    },
    "executionInfo": {
     "elapsed": 30425,
     "status": "ok",
     "timestamp": 1686353556707,
     "user": {
      "displayName": "Harish Sundaralingam",
      "userId": "10841756153612022352"
     },
     "user_tz": 240
    },
    "id": "a572f96b",
    "outputId": "e7840cf2-ddee-4667-ca46-2dd47f0c6bb2"
   },
   "outputs": [
    {
     "name": "stdout",
     "output_type": "stream",
     "text": [
      "Found 233928 unique tokens.\n"
     ]
    }
   ],
   "source": [
    "# tokenizing sentences into words\n",
    "#num_words=MAX_NUM_WORDS\n",
    "tokenizer = Tokenizer()\n",
    "# using fit_on_texts method assigning values to particular words\n",
    "tokenizer.fit_on_texts(texts)\n",
    "# texts_to_sequences method is used to give particular integer values to word\n",
    "sequences = tokenizer.texts_to_sequences(texts)\n",
    "\n",
    "# calculating word_index\n",
    "word_index = tokenizer.word_index\n",
    "\n",
    "print('Found %s unique tokens.' % len(word_index))"
   ]
  },
  {
   "cell_type": "code",
   "execution_count": null,
   "id": "4487c6d5",
   "metadata": {
    "colab": {
     "base_uri": "https://localhost:8080/",
     "height": 35
    },
    "executionInfo": {
     "elapsed": 18,
     "status": "ok",
     "timestamp": 1686353556708,
     "user": {
      "displayName": "Harish Sundaralingam",
      "userId": "10841756153612022352"
     },
     "user_tz": 240
    },
    "id": "4487c6d5",
    "outputId": "e6434f2a-2b52-40a1-b034-57fe4758863b"
   },
   "outputs": [
    {
     "data": {
      "application/vnd.google.colaboratory.intrinsic+json": {
       "type": "string"
      },
      "text/plain": [
       "'post vote hillary'"
      ]
     },
     "execution_count": 19,
     "metadata": {},
     "output_type": "execute_result"
    }
   ],
   "source": [
    "texts[1]"
   ]
  },
  {
   "cell_type": "code",
   "execution_count": null,
   "id": "e72c8440",
   "metadata": {
    "colab": {
     "base_uri": "https://localhost:8080/"
    },
    "executionInfo": {
     "elapsed": 14,
     "status": "ok",
     "timestamp": 1686353556708,
     "user": {
      "displayName": "Harish Sundaralingam",
      "userId": "10841756153612022352"
     },
     "user_tz": 240
    },
    "id": "e72c8440",
    "outputId": "23658a67-8511-4637-eb9d-bac4765d5d97"
   },
   "outputs": [
    {
     "data": {
      "text/plain": [
       "[103, 40, 38]"
      ]
     },
     "execution_count": 20,
     "metadata": {},
     "output_type": "execute_result"
    }
   ],
   "source": [
    "sequences[1][:10]"
   ]
  },
  {
   "cell_type": "code",
   "execution_count": null,
   "id": "c394c6a5",
   "metadata": {
    "colab": {
     "base_uri": "https://localhost:8080/"
    },
    "executionInfo": {
     "elapsed": 9,
     "status": "ok",
     "timestamp": 1686353556708,
     "user": {
      "displayName": "Harish Sundaralingam",
      "userId": "10841756153612022352"
     },
     "user_tz": 240
    },
    "id": "c394c6a5",
    "outputId": "917f1cc6-98f0-4f6a-ac0b-43f2b48b844b"
   },
   "outputs": [
    {
     "name": "stdout",
     "output_type": "stream",
     "text": [
      "say -> 1\n",
      "s -> 2\n",
      "trump -> 3\n",
      "president -> 4\n",
      "people -> 5\n",
      "year -> 6\n",
      "state -> 7\n",
      "clinton -> 8\n",
      "mr -> 9\n",
      "u -> 10\n",
      "new -> 11\n",
      "time -> 12\n",
      "like -> 13\n",
      "government -> 14\n",
      "go -> 15\n",
      "tell -> 16\n",
      "obama -> 17\n"
     ]
    }
   ],
   "source": [
    "#Lets check few word to numerical replesentation\n",
    "#Mapping is preserved in dictionary -> word_index property of instance\n",
    "word_index = tokenizer.word_index\n",
    "for word, num in word_index.items():\n",
    "    print(f\"{word} -> {num}\")\n",
    "    if num == 17:\n",
    "        break"
   ]
  },
  {
   "cell_type": "code",
   "execution_count": null,
   "id": "2a8dc641",
   "metadata": {
    "id": "2a8dc641"
   },
   "outputs": [],
   "source": [
    "vocab_size = len(tokenizer.word_index) + 1 # vocabulary size"
   ]
  },
  {
   "cell_type": "code",
   "execution_count": null,
   "id": "daf6dcb7",
   "metadata": {
    "colab": {
     "base_uri": "https://localhost:8080/"
    },
    "executionInfo": {
     "elapsed": 8,
     "status": "ok",
     "timestamp": 1686353556709,
     "user": {
      "displayName": "Harish Sundaralingam",
      "userId": "10841756153612022352"
     },
     "user_tz": 240
    },
    "id": "daf6dcb7",
    "outputId": "fbe482f0-a2ec-4638-d85d-55f6012f75da"
   },
   "outputs": [
    {
     "data": {
      "text/plain": [
       "233929"
      ]
     },
     "execution_count": 23,
     "metadata": {},
     "output_type": "execute_result"
    }
   ],
   "source": [
    "vocab_size"
   ]
  },
  {
   "cell_type": "code",
   "execution_count": null,
   "id": "95f35658",
   "metadata": {
    "id": "95f35658"
   },
   "outputs": [],
   "source": [
    "#based on the above description deciding we can keep max length as 500, as 3rd quartile is 217\n",
    "MAX_SEQUENCE_LENGTH = 1000"
   ]
  },
  {
   "cell_type": "code",
   "execution_count": null,
   "id": "d6f19dea",
   "metadata": {
    "colab": {
     "base_uri": "https://localhost:8080/"
    },
    "executionInfo": {
     "elapsed": 1635,
     "status": "ok",
     "timestamp": 1686353558339,
     "user": {
      "displayName": "Harish Sundaralingam",
      "userId": "10841756153612022352"
     },
     "user_tz": 240
    },
    "id": "d6f19dea",
    "outputId": "25340f44-4e10-4304-dc32-236a8b51c741"
   },
   "outputs": [
    {
     "name": "stdout",
     "output_type": "stream",
     "text": [
      "233928\n",
      "Found 233928 unique tokens.\n",
      "Shape of data tensor: (72134, 1000)\n",
      "Shape of label tensor: (72134,)\n"
     ]
    }
   ],
   "source": [
    "# padding data to the same length for each samples\n",
    "data = pad_sequences(sequences,\n",
    "                     maxlen=MAX_SEQUENCE_LENGTH,\n",
    "                     padding='post',\n",
    "                     truncating='post')\n",
    "print(len(word_index))\n",
    "print('Found %s unique tokens.' % len(word_index))\n",
    "print('Shape of data tensor:', data.shape)\n",
    "print('Shape of label tensor:', labels.shape)"
   ]
  },
  {
   "cell_type": "code",
   "execution_count": null,
   "id": "1fc0e6ca",
   "metadata": {
    "id": "1fc0e6ca"
   },
   "outputs": [],
   "source": [
    "# create an embedding matrix from the word2vec model to pass to the embedding layer as weights\n",
    "embedding_matrix = np.zeros((vocab_size, EMBEDDING_DIM))\n",
    "for word, i in word_index.items():\n",
    "    try:\n",
    "        embedding_vector = word_vectors[word]\n",
    "        embedding_matrix[i] = embedding_vector\n",
    "    except KeyError:\n",
    "        embedding_matrix[i]=np.random.normal(0,np.sqrt(0.25),EMBEDDING_DIM) # if word is not found random numbers are assigned.\n",
    "\n",
    "del word_vectors"
   ]
  },
  {
   "cell_type": "code",
   "execution_count": null,
   "id": "378772ed",
   "metadata": {
    "colab": {
     "base_uri": "https://localhost:8080/"
    },
    "executionInfo": {
     "elapsed": 5,
     "status": "ok",
     "timestamp": 1686353563096,
     "user": {
      "displayName": "Harish Sundaralingam",
      "userId": "10841756153612022352"
     },
     "user_tz": 240
    },
    "id": "378772ed",
    "outputId": "0c858911-97c0-4126-ab8a-7439617335e8"
   },
   "outputs": [
    {
     "data": {
      "text/plain": [
       "(233929, 300)"
      ]
     },
     "execution_count": 27,
     "metadata": {},
     "output_type": "execute_result"
    }
   ],
   "source": [
    "embedding_matrix.shape"
   ]
  },
  {
   "cell_type": "code",
   "execution_count": null,
   "id": "2ed63e91",
   "metadata": {
    "colab": {
     "base_uri": "https://localhost:8080/"
    },
    "executionInfo": {
     "elapsed": 480,
     "status": "ok",
     "timestamp": 1686353563574,
     "user": {
      "displayName": "Harish Sundaralingam",
      "userId": "10841756153612022352"
     },
     "user_tz": 240
    },
    "id": "2ed63e91",
    "outputId": "3f177ff9-c354-4a9f-8c70-1c40fa46b1b1"
   },
   "outputs": [
    {
     "name": "stdout",
     "output_type": "stream",
     "text": [
      "train size: 51936\n",
      "test size: 14427\n",
      "val Size: 5771\n"
     ]
    }
   ],
   "source": [
    "from sklearn.model_selection import train_test_split\n",
    "\n",
    "\n",
    "# test train and validation split\n",
    "x, x_test, y, y_test = train_test_split(data,\n",
    "                                        labels,\n",
    "                                        test_size=0.2)\n",
    "\n",
    "x_train, x_val, y_train, y_val = train_test_split(x,\n",
    "                                                  y,\n",
    "                                                  test_size=0.1)\n",
    "\n",
    "print('train size:',x_train.shape[0])\n",
    "print('test size:', x_test.shape[0])\n",
    "print('val Size:', x_val.shape[0])"
   ]
  },
  {
   "cell_type": "code",
   "execution_count": null,
   "id": "3e2bc101",
   "metadata": {
    "id": "3e2bc101"
   },
   "outputs": [],
   "source": [
    "from keras import layers\n",
    "from keras.models import Sequential"
   ]
  },
  {
   "cell_type": "code",
   "execution_count": null,
   "id": "58a2ce32",
   "metadata": {
    "id": "58a2ce32"
   },
   "outputs": [],
   "source": [
    "dropout = 0.4\n",
    "model = Sequential()\n",
    "\n",
    "# defining embedding layer where embedding dimension/ vector size is defined as 300 and input length is set as 1000.\n",
    "model.add(layers.Embedding(vocab_size, output_dim=EMBEDDING_DIM, weights=[embedding_matrix], input_length=MAX_SEQUENCE_LENGTH, trainable=False))\n",
    "# defining a convolution layer, number of filters are set as 128 and kernal size is defined as 1 X 5.\n",
    "model.add(layers.Conv1D(128,5, activation='ReLU'))\n",
    "# max pooling layer\n",
    "model.add(layers.MaxPool1D(2))\n",
    "# add dropout\n",
    "model.add(layers.Dropout(dropout))\n",
    "# defining a convolution layer, number of filters are set as 64 and kernal size is defined as 1 X 3.\n",
    "model.add(layers.Conv1D(64,3, activation='ReLU'))\n",
    "model.add(layers.MaxPooling1D(2, strides= 2))\n",
    "# define a LSTM layer with 64 units\n",
    "model.add(layers.LSTM(64,return_sequences=True))\n",
    "# define a LSTM layer with 32 units\n",
    "model.add(layers.LSTM(32,return_sequences=True))\n",
    "# flatten\n",
    "model.add(layers.Flatten())\n",
    "# add dense layer with 64 neurons and ReLu activation function\n",
    "model.add(layers.Dense(64, activation='ReLU'))\n",
    "model.add(layers.Dropout(dropout))\n",
    "# add dense layer with 16 neurons and ReLu activation function\n",
    "model.add(layers.Dense(16, activation='ReLU'))\n",
    "# output layer with 1 neuron and sigmoid activation for binary classification\n",
    "model.add(layers.Dense(1, activation='sigmoid'))\n",
    "model.compile(optimizer='adam', loss='binary_crossentropy', metrics=['accuracy'])\n",
    "\n",
    "del embedding_matrix"
   ]
  },
  {
   "cell_type": "code",
   "execution_count": null,
   "id": "23fd32fa",
   "metadata": {
    "colab": {
     "base_uri": "https://localhost:8080/"
    },
    "executionInfo": {
     "elapsed": 10,
     "status": "ok",
     "timestamp": 1686353568112,
     "user": {
      "displayName": "Harish Sundaralingam",
      "userId": "10841756153612022352"
     },
     "user_tz": 240
    },
    "id": "23fd32fa",
    "outputId": "1613d5da-8e4e-4485-b332-abb71f271b42"
   },
   "outputs": [
    {
     "name": "stdout",
     "output_type": "stream",
     "text": [
      "Model: \"sequential\"\n",
      "_________________________________________________________________\n",
      " Layer (type)                Output Shape              Param #   \n",
      "=================================================================\n",
      " embedding (Embedding)       (None, 1000, 300)         70178700  \n",
      "                                                                 \n",
      " conv1d (Conv1D)             (None, 996, 128)          192128    \n",
      "                                                                 \n",
      " max_pooling1d (MaxPooling1D  (None, 498, 128)         0         \n",
      " )                                                               \n",
      "                                                                 \n",
      " dropout (Dropout)           (None, 498, 128)          0         \n",
      "                                                                 \n",
      " conv1d_1 (Conv1D)           (None, 496, 64)           24640     \n",
      "                                                                 \n",
      " max_pooling1d_1 (MaxPooling  (None, 248, 64)          0         \n",
      " 1D)                                                             \n",
      "                                                                 \n",
      " lstm (LSTM)                 (None, 248, 64)           33024     \n",
      "                                                                 \n",
      " lstm_1 (LSTM)               (None, 248, 32)           12416     \n",
      "                                                                 \n",
      " flatten (Flatten)           (None, 7936)              0         \n",
      "                                                                 \n",
      " dense (Dense)               (None, 64)                507968    \n",
      "                                                                 \n",
      " dropout_1 (Dropout)         (None, 64)                0         \n",
      "                                                                 \n",
      " dense_1 (Dense)             (None, 16)                1040      \n",
      "                                                                 \n",
      " dense_2 (Dense)             (None, 1)                 17        \n",
      "                                                                 \n",
      "=================================================================\n",
      "Total params: 70,949,933\n",
      "Trainable params: 771,233\n",
      "Non-trainable params: 70,178,700\n",
      "_________________________________________________________________\n"
     ]
    }
   ],
   "source": [
    "model.summary()"
   ]
  },
  {
   "cell_type": "code",
   "execution_count": null,
   "id": "TUWds2eFJKvX",
   "metadata": {
    "colab": {
     "base_uri": "https://localhost:8080/",
     "height": 1000
    },
    "executionInfo": {
     "elapsed": 521,
     "status": "ok",
     "timestamp": 1686353568630,
     "user": {
      "displayName": "Harish Sundaralingam",
      "userId": "10841756153612022352"
     },
     "user_tz": 240
    },
    "id": "TUWds2eFJKvX",
    "outputId": "d9e88a92-c003-44eb-c8ec-350188e783e4"
   },
   "outputs": [
    {
     "data": {
      "image/png": "[encoded data removed]",
      "text/plain": [
       "<IPython.core.display.Image object>"
      ]
     },
     "execution_count": 32,
     "metadata": {},
     "output_type": "execute_result"
    }
   ],
   "source": [
    "# visalizing the layers of model.\n",
    "import tensorflow as tf\n",
    "\n",
    "tf.keras.utils.plot_model(\n",
    "model,\n",
    "to_file=\"model.png\",\n",
    "show_shapes=True,\n",
    "show_dtype=False,\n",
    "show_layer_names=True,\n",
    "rankdir=\"TB\",\n",
    "expand_nested=True,\n",
    "dpi=96,\n",
    "layer_range=None,\n",
    "show_layer_activations=True,\n",
    ")"
   ]
  },
  {
   "cell_type": "code",
   "execution_count": null,
   "id": "1f392350",
   "metadata": {
    "colab": {
     "base_uri": "https://localhost:8080/"
    },
    "executionInfo": {
     "elapsed": 505199,
     "status": "ok",
     "timestamp": 1686354073827,
     "user": {
      "displayName": "Harish Sundaralingam",
      "userId": "10841756153612022352"
     },
     "user_tz": 240
    },
    "id": "1f392350",
    "outputId": "d98f4def-04f8-4739-ac98-bd92f10d3e4b"
   },
   "outputs": [
    {
     "name": "stdout",
     "output_type": "stream",
     "text": [
      "Epoch 1/15\n",
      "406/406 [==============================] - 46s 76ms/step - loss: 0.2313 - accuracy: 0.9002 - val_loss: 0.1081 - val_accuracy: 0.9601\n",
      "Epoch 2/15\n",
      "406/406 [==============================] - 29s 72ms/step - loss: 0.0892 - accuracy: 0.9668 - val_loss: 0.0841 - val_accuracy: 0.9683\n",
      "Epoch 3/15\n",
      "406/406 [==============================] - 30s 73ms/step - loss: 0.0647 - accuracy: 0.9767 - val_loss: 0.0779 - val_accuracy: 0.9745\n",
      "Epoch 4/15\n",
      "406/406 [==============================] - 30s 74ms/step - loss: 0.0438 - accuracy: 0.9848 - val_loss: 0.0712 - val_accuracy: 0.9754\n",
      "Epoch 5/15\n",
      "406/406 [==============================] - 30s 75ms/step - loss: 0.0344 - accuracy: 0.9876 - val_loss: 0.0786 - val_accuracy: 0.9773\n",
      "Epoch 6/15\n",
      "406/406 [==============================] - 30s 75ms/step - loss: 0.0272 - accuracy: 0.9901 - val_loss: 0.0747 - val_accuracy: 0.9778\n",
      "Epoch 7/15\n",
      "406/406 [==============================] - 30s 74ms/step - loss: 0.0260 - accuracy: 0.9907 - val_loss: 0.0634 - val_accuracy: 0.9827\n",
      "Epoch 8/15\n",
      "406/406 [==============================] - 29s 73ms/step - loss: 0.0203 - accuracy: 0.9927 - val_loss: 0.0630 - val_accuracy: 0.9809\n",
      "Epoch 9/15\n",
      "406/406 [==============================] - 29s 72ms/step - loss: 0.0169 - accuracy: 0.9943 - val_loss: 0.0743 - val_accuracy: 0.9799\n",
      "Epoch 10/15\n",
      "406/406 [==============================] - 29s 72ms/step - loss: 0.0177 - accuracy: 0.9937 - val_loss: 0.0675 - val_accuracy: 0.9815\n",
      "Epoch 11/15\n",
      "406/406 [==============================] - 30s 75ms/step - loss: 0.0158 - accuracy: 0.9948 - val_loss: 0.0733 - val_accuracy: 0.9823\n",
      "Epoch 12/15\n",
      "406/406 [==============================] - 29s 72ms/step - loss: 0.0125 - accuracy: 0.9959 - val_loss: 0.0830 - val_accuracy: 0.9776\n",
      "Epoch 13/15\n",
      "406/406 [==============================] - 30s 75ms/step - loss: 0.0124 - accuracy: 0.9960 - val_loss: 0.0811 - val_accuracy: 0.9823\n",
      "Epoch 14/15\n",
      "406/406 [==============================] - 29s 72ms/step - loss: 0.0099 - accuracy: 0.9968 - val_loss: 0.0841 - val_accuracy: 0.9813\n",
      "Epoch 15/15\n",
      "406/406 [==============================] - 29s 73ms/step - loss: 0.0113 - accuracy: 0.9962 - val_loss: 0.0783 - val_accuracy: 0.9804\n",
      "total training time: 505.85248494148254\n"
     ]
    }
   ],
   "source": [
    "# train the model\n",
    "import time as t\n",
    "start = t.time()\n",
    "history = model.fit(x_train,\n",
    "                    y_train,\n",
    "                    batch_size=128,initial_epoch=0,\n",
    "                    epochs=15,validation_data=(x_val, y_val))\n",
    "\n",
    "print(\"total training time:\",t.time()-start)"
   ]
  },
  {
   "cell_type": "code",
   "execution_count": null,
   "id": "f09e9c5e",
   "metadata": {
    "colab": {
     "base_uri": "https://localhost:8080/",
     "height": 472
    },
    "executionInfo": {
     "elapsed": 524,
     "status": "ok",
     "timestamp": 1686354074348,
     "user": {
      "displayName": "Harish Sundaralingam",
      "userId": "10841756153612022352"
     },
     "user_tz": 240
    },
    "id": "f09e9c5e",
    "outputId": "08903ff9-c9db-4d1e-cf27-e33f22a79e08",
    "scrolled": true
   },
   "outputs": [
    {
     "data": {
      "image/png": "[encoded data removed]",
      "text/plain": [
       "<Figure size 640x480 with 1 Axes>"
      ]
     },
     "metadata": {},
     "output_type": "display_data"
    }
   ],
   "source": [
    "# plot training and validation accuracy / loss\n",
    "plt.plot(history.history['loss'])\n",
    "plt.plot(history.history['val_loss'])\n",
    "plt.plot(history.history['accuracy'])\n",
    "plt.plot(history.history['val_accuracy'])\n",
    "\n",
    "plt.title('Model accuracy / Loss')\n",
    "plt.xlabel('Epoch')\n",
    "plt.legend(['Training loss', 'Validation loss','Training Accuracy','Validation Accuracy'])\n",
    "plt.show()"
   ]
  },
  {
   "cell_type": "code",
   "execution_count": null,
   "id": "8d5be7f4",
   "metadata": {
    "id": "8d5be7f4"
   },
   "outputs": [],
   "source": [
    "from sklearn.metrics import accuracy_score,roc_auc_score,precision_score,recall_score,classification_report,roc_curve\n",
    "\n",
    "def evaluate_model(predict_fun, X_train, y_train, X_test, y_test):\n",
    "    '''\n",
    "    evaluate the model, both training and testing accuraries are reported\n",
    "    '''\n",
    "    # training acc\n",
    "    y_predict_train = predict_fun(X_train)\n",
    "    train_acc = accuracy_score(y_train,y_predict_train)\n",
    "\n",
    "    # testing acc\n",
    "    y_predict_test = predict_fun(X_test)\n",
    "    test_acc = accuracy_score(y_test,y_predict_test)\n",
    "\n",
    "\n",
    "    # accuracy = accuracy_score(y_test,y_pred_tex)\n",
    "    roc_auc =roc_auc_score(y_test, y_predict_test)\n",
    "    precision = precision_score(y_pred=y_predict_test, y_true=y_test,zero_division=1)\n",
    "    recall = recall_score(y_pred=y_predict_test, y_true=y_test,zero_division=1)\n",
    "\n",
    "    cr = classification_report(y_test, y_predict_test,zero_division=1)\n",
    "\n",
    "\n",
    "    fpr, tpr, threshold = roc_curve(y_test, y_predict_test)\n",
    "    plt.plot([0,1], [0,1], 'k--')\n",
    "    plt.plot(fpr, tpr, label= 'Model')\n",
    "    plt.xlabel('False Positive Rate',fontsize=12)\n",
    "    plt.ylabel('True Positive Rate',fontsize=12)\n",
    "    plt.title('ROC Curve',fontsize=20)\n",
    "    plt.legend(fontsize=12)\n",
    "    plt.show()\n",
    "\n",
    "    roc_auc_sc = roc_auc_score(y_test,y_predict_test)\n",
    "\n",
    "    return train_acc, test_acc,cr,roc_auc_sc"
   ]
  },
  {
   "cell_type": "code",
   "execution_count": null,
   "id": "512a4833",
   "metadata": {
    "colab": {
     "base_uri": "https://localhost:8080/",
     "height": 756
    },
    "executionInfo": {
     "elapsed": 28305,
     "status": "ok",
     "timestamp": 1686354102648,
     "user": {
      "displayName": "Harish Sundaralingam",
      "userId": "10841756153612022352"
     },
     "user_tz": 240
    },
    "id": "512a4833",
    "outputId": "eb5a90b6-c28f-4af5-f468-405792f934fe"
   },
   "outputs": [
    {
     "name": "stdout",
     "output_type": "stream",
     "text": [
      "1623/1623 [==============================] - 19s 11ms/step\n",
      "451/451 [==============================] - 6s 12ms/step\n"
     ]
    },
    {
     "data": {
      "image/png": "[encoded data removed]",
      "text/plain": [
       "<Figure size 640x480 with 1 Axes>"
      ]
     },
     "metadata": {},
     "output_type": "display_data"
    },
    {
     "name": "stdout",
     "output_type": "stream",
     "text": [
      "Training Accuracy: 99.97%\n",
      "Testing Accuracy: 98.19%\n",
      "Classification Report:\n",
      "               precision    recall  f1-score   support\n",
      "\n",
      "           0       0.99      0.98      0.98      7048\n",
      "           1       0.98      0.99      0.98      7379\n",
      "\n",
      "    accuracy                           0.98     14427\n",
      "   macro avg       0.98      0.98      0.98     14427\n",
      "weighted avg       0.98      0.98      0.98     14427\n",
      "\n",
      "AUC score 0.9817800584196124\n",
      "Total time required for testing 28.443965196609497\n"
     ]
    }
   ],
   "source": [
    "import time as t\n",
    "start = t.time()\n",
    "train_acc, test_acc,cr,roc_auc_sc = evaluate_model(lambda x: np.rint(model.predict(x)),\n",
    "                                     x_train,\n",
    "                                     y_train,\n",
    "                                     x_test,\n",
    "                                     y_test)\n",
    "print(\"Training Accuracy: {:.2f}%\".format(train_acc*100))\n",
    "print(\"Testing Accuracy: {:.2f}%\".format(test_acc*100))\n",
    "print(\"Classification Report:\\n\",cr)\n",
    "print(\"AUC score\",roc_auc_sc)\n",
    "print(\"Total time required for testing\",t.time()-start)"
   ]
  },
  {
   "cell_type": "code",
   "execution_count": null,
   "id": "0069cb42",
   "metadata": {
    "colab": {
     "base_uri": "https://localhost:8080/"
    },
    "executionInfo": {
     "elapsed": 10413,
     "status": "ok",
     "timestamp": 1686354113057,
     "user": {
      "displayName": "Harish Sundaralingam",
      "userId": "10841756153612022352"
     },
     "user_tz": 240
    },
    "id": "0069cb42",
    "outputId": "c38cb7f0-3efd-40a6-8344-079654b117b8"
   },
   "outputs": [
    {
     "name": "stdout",
     "output_type": "stream",
     "text": [
      "451/451 [==============================] - 6s 12ms/step - loss: 0.0797 - accuracy: 0.9819\n",
      "test loss, test acc: [0.07967934012413025, 0.981908917427063]\n"
     ]
    }
   ],
   "source": [
    "results = model.evaluate(x_test,y_test)\n",
    "print('test loss, test acc:', results)"
   ]
  },
  {
   "cell_type": "code",
   "execution_count": null,
   "id": "b49668ce",
   "metadata": {
    "id": "b49668ce"
   },
   "outputs": [],
   "source": [
    "# model.save('google_word2vec')"
   ]
  },
  {
   "cell_type": "code",
   "execution_count": null,
   "id": "d5ee40cb",
   "metadata": {
    "id": "d5ee40cb"
   },
   "outputs": [],
   "source": []
  },
  {
   "cell_type": "code",
   "execution_count": null,
   "id": "3e1fb182",
   "metadata": {
    "id": "3e1fb182"
   },
   "outputs": [],
   "source": []
  }
 ],
 "metadata": {
  "accelerator": "GPU",
  "colab": {
   "gpuType": "T4",
   "provenance": []
  },
  "kernelspec": {
   "display_name": "Python 3.10 (tensorflow)",
   "language": "python",
   "name": "tensorflow"
  },
  "language_info": {
   "codemirror_mode": {
    "name": "ipython",
    "version": 3
   },
   "file_extension": ".py",
   "mimetype": "text/x-python",
   "name": "python",
   "nbconvert_exporter": "python",
   "pygments_lexer": "ipython3",
   "version": "3.10.11"
  }
 },
 "nbformat": 4,
 "nbformat_minor": 5
}
