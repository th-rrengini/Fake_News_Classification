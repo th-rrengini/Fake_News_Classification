{
 "cells": [
  {
   "cell_type": "markdown",
   "id": "5827d5cb",
   "metadata": {},
   "source": [
    "#### 2CNN + 2LSTM Layers \n",
    "#### Stop word removal, Lemmatization, Gensim phrases\n",
    "#### Keras embedding"
   ]
  },
  {
   "cell_type": "code",
   "execution_count": null,
   "id": "7b9664f0",
   "metadata": {
    "id": "7b9664f0"
   },
   "outputs": [],
   "source": [
    "# import necessary packages\n",
    "import pandas as pd\n",
    "import matplotlib.pyplot as plt\n",
    "import numpy as np"
   ]
  },
  {
   "cell_type": "code",
   "execution_count": null,
   "id": "KV7k20bXZ-rX",
   "metadata": {
    "id": "KV7k20bXZ-rX"
   },
   "outputs": [],
   "source": [
    "from google.colab import drive\n",
    "drive.mount('/content/drive')"
   ]
  },
  {
   "cell_type": "code",
   "execution_count": null,
   "id": "ef5ea013",
   "metadata": {
    "id": "ef5ea013"
   },
   "outputs": [],
   "source": [
    "df = pd.read_csv('/content/drive/MyDrive/ProjectFakeNews/processed_fake_news.csv') # load the prepocessed dataset"
   ]
  },
  {
   "cell_type": "code",
   "execution_count": null,
   "id": "b1f8d91e",
   "metadata": {
    "id": "b1f8d91e",
    "outputId": "20f7b796-b516-46fb-c5c6-e42273dec1cc"
   },
   "outputs": [
    {
     "data": {
      "text/html": [
       "<div>\n",
       "<style scoped>\n",
       "    .dataframe tbody tr th:only-of-type {\n",
       "        vertical-align: middle;\n",
       "    }\n",
       "\n",
       "    .dataframe tbody tr th {\n",
       "        vertical-align: top;\n",
       "    }\n",
       "\n",
       "    .dataframe thead th {\n",
       "        text-align: right;\n",
       "    }\n",
       "</style>\n",
       "<table border=\"1\" class=\"dataframe\">\n",
       "  <thead>\n",
       "    <tr style=\"text-align: right;\">\n",
       "      <th></th>\n",
       "      <th>Unnamed: 0</th>\n",
       "      <th>text</th>\n",
       "      <th>label</th>\n",
       "      <th>lemm_sent</th>\n",
       "      <th>rephrased</th>\n",
       "      <th>joined_lemm</th>\n",
       "    </tr>\n",
       "  </thead>\n",
       "  <tbody>\n",
       "    <tr>\n",
       "      <th>0</th>\n",
       "      <td>0</td>\n",
       "      <td>No comment is expected from Barack Obama Membe...</td>\n",
       "      <td>1</td>\n",
       "      <td>['comment', 'expect', 'barack', 'obama', 'memb...</td>\n",
       "      <td>['comment', 'expect', 'barack_obama', 'member'...</td>\n",
       "      <td>comment expect barack_obama member fyf911 fuky...</td>\n",
       "    </tr>\n",
       "    <tr>\n",
       "      <th>1</th>\n",
       "      <td>1</td>\n",
       "      <td>Did they post their votes for Hillary already?</td>\n",
       "      <td>1</td>\n",
       "      <td>['post', 'vote', 'hillary']</td>\n",
       "      <td>['post', 'vote_hillary']</td>\n",
       "      <td>post vote_hillary</td>\n",
       "    </tr>\n",
       "    <tr>\n",
       "      <th>2</th>\n",
       "      <td>2</td>\n",
       "      <td>Now, most of the demonstrators gathered last ...</td>\n",
       "      <td>1</td>\n",
       "      <td>['demonstrator', 'gather', 'night', 'exercise'...</td>\n",
       "      <td>['demonstrator_gather', 'night', 'exercise_con...</td>\n",
       "      <td>demonstrator_gather night exercise_constitutio...</td>\n",
       "    </tr>\n",
       "    <tr>\n",
       "      <th>3</th>\n",
       "      <td>3</td>\n",
       "      <td>A dozen politically active pastors came here f...</td>\n",
       "      <td>0</td>\n",
       "      <td>['dozen', 'politically', 'active', 'pastor', '...</td>\n",
       "      <td>['dozen', 'politically_active', 'pastor', 'com...</td>\n",
       "      <td>dozen politically_active pastor come private_d...</td>\n",
       "    </tr>\n",
       "    <tr>\n",
       "      <th>4</th>\n",
       "      <td>4</td>\n",
       "      <td>The RS-28 Sarmat missile, dubbed Satan 2, will...</td>\n",
       "      <td>1</td>\n",
       "      <td>['rs-28', 'sarmat', 'missile', 'dub', 'satan',...</td>\n",
       "      <td>['rs-28_sarmat', 'missile_dub', 'satan_2', 're...</td>\n",
       "      <td>rs-28_sarmat missile_dub satan_2 replace_ss-18...</td>\n",
       "    </tr>\n",
       "  </tbody>\n",
       "</table>\n",
       "</div>"
      ],
      "text/plain": [
       "   Unnamed: 0                                               text  label   \n",
       "0           0  No comment is expected from Barack Obama Membe...      1  \\\n",
       "1           1     Did they post their votes for Hillary already?      1   \n",
       "2           2   Now, most of the demonstrators gathered last ...      1   \n",
       "3           3  A dozen politically active pastors came here f...      0   \n",
       "4           4  The RS-28 Sarmat missile, dubbed Satan 2, will...      1   \n",
       "\n",
       "                                           lemm_sent   \n",
       "0  ['comment', 'expect', 'barack', 'obama', 'memb...  \\\n",
       "1                        ['post', 'vote', 'hillary']   \n",
       "2  ['demonstrator', 'gather', 'night', 'exercise'...   \n",
       "3  ['dozen', 'politically', 'active', 'pastor', '...   \n",
       "4  ['rs-28', 'sarmat', 'missile', 'dub', 'satan',...   \n",
       "\n",
       "                                           rephrased   \n",
       "0  ['comment', 'expect', 'barack_obama', 'member'...  \\\n",
       "1                           ['post', 'vote_hillary']   \n",
       "2  ['demonstrator_gather', 'night', 'exercise_con...   \n",
       "3  ['dozen', 'politically_active', 'pastor', 'com...   \n",
       "4  ['rs-28_sarmat', 'missile_dub', 'satan_2', 're...   \n",
       "\n",
       "                                         joined_lemm  \n",
       "0  comment expect barack_obama member fyf911 fuky...  \n",
       "1                                  post vote_hillary  \n",
       "2  demonstrator_gather night exercise_constitutio...  \n",
       "3  dozen politically_active pastor come private_d...  \n",
       "4  rs-28_sarmat missile_dub satan_2 replace_ss-18...  "
      ]
     },
     "execution_count": 3,
     "metadata": {},
     "output_type": "execute_result"
    }
   ],
   "source": [
    "df.head()"
   ]
  },
  {
   "cell_type": "code",
   "execution_count": null,
   "id": "058397ea",
   "metadata": {
    "id": "058397ea"
   },
   "outputs": [],
   "source": [
    "df['lemm_sent'] = df.lemm_sent.apply(lambda x: eval(x)) \n",
    "# convert the lemm_sent colum back to list, as it is saved as a string."
   ]
  },
  {
   "cell_type": "code",
   "execution_count": null,
   "id": "06747394",
   "metadata": {
    "id": "06747394"
   },
   "outputs": [],
   "source": [
    "df['lemm_sent'] = df['lemm_sent'].apply(lambda x: ' '.join([str((i)) for i in x]))\n",
    "# join the tokens to make a sentence"
   ]
  },
  {
   "cell_type": "code",
   "execution_count": null,
   "id": "07e5cda8",
   "metadata": {
    "id": "07e5cda8",
    "outputId": "857c0a9c-81ee-42dd-83d4-7a36dad31309"
   },
   "outputs": [
    {
     "data": {
      "text/html": [
       "<div>\n",
       "<style scoped>\n",
       "    .dataframe tbody tr th:only-of-type {\n",
       "        vertical-align: middle;\n",
       "    }\n",
       "\n",
       "    .dataframe tbody tr th {\n",
       "        vertical-align: top;\n",
       "    }\n",
       "\n",
       "    .dataframe thead th {\n",
       "        text-align: right;\n",
       "    }\n",
       "</style>\n",
       "<table border=\"1\" class=\"dataframe\">\n",
       "  <thead>\n",
       "    <tr style=\"text-align: right;\">\n",
       "      <th></th>\n",
       "      <th>Unnamed: 0</th>\n",
       "      <th>text</th>\n",
       "      <th>label</th>\n",
       "      <th>lemm_sent</th>\n",
       "      <th>rephrased</th>\n",
       "      <th>joined_lemm</th>\n",
       "    </tr>\n",
       "  </thead>\n",
       "  <tbody>\n",
       "    <tr>\n",
       "      <th>0</th>\n",
       "      <td>0</td>\n",
       "      <td>No comment is expected from Barack Obama Membe...</td>\n",
       "      <td>1</td>\n",
       "      <td>comment expect barack obama member fyf911 fuky...</td>\n",
       "      <td>['comment', 'expect', 'barack_obama', 'member'...</td>\n",
       "      <td>comment expect barack_obama member fyf911 fuky...</td>\n",
       "    </tr>\n",
       "    <tr>\n",
       "      <th>1</th>\n",
       "      <td>1</td>\n",
       "      <td>Did they post their votes for Hillary already?</td>\n",
       "      <td>1</td>\n",
       "      <td>post vote hillary</td>\n",
       "      <td>['post', 'vote_hillary']</td>\n",
       "      <td>post vote_hillary</td>\n",
       "    </tr>\n",
       "    <tr>\n",
       "      <th>2</th>\n",
       "      <td>2</td>\n",
       "      <td>Now, most of the demonstrators gathered last ...</td>\n",
       "      <td>1</td>\n",
       "      <td>demonstrator gather night exercise constitutio...</td>\n",
       "      <td>['demonstrator_gather', 'night', 'exercise_con...</td>\n",
       "      <td>demonstrator_gather night exercise_constitutio...</td>\n",
       "    </tr>\n",
       "    <tr>\n",
       "      <th>3</th>\n",
       "      <td>3</td>\n",
       "      <td>A dozen politically active pastors came here f...</td>\n",
       "      <td>0</td>\n",
       "      <td>dozen politically active pastor come private d...</td>\n",
       "      <td>['dozen', 'politically_active', 'pastor', 'com...</td>\n",
       "      <td>dozen politically_active pastor come private_d...</td>\n",
       "    </tr>\n",
       "    <tr>\n",
       "      <th>4</th>\n",
       "      <td>4</td>\n",
       "      <td>The RS-28 Sarmat missile, dubbed Satan 2, will...</td>\n",
       "      <td>1</td>\n",
       "      <td>rs-28 sarmat missile dub satan 2 replace ss-18...</td>\n",
       "      <td>['rs-28_sarmat', 'missile_dub', 'satan_2', 're...</td>\n",
       "      <td>rs-28_sarmat missile_dub satan_2 replace_ss-18...</td>\n",
       "    </tr>\n",
       "  </tbody>\n",
       "</table>\n",
       "</div>"
      ],
      "text/plain": [
       "   Unnamed: 0                                               text  label   \n",
       "0           0  No comment is expected from Barack Obama Membe...      1  \\\n",
       "1           1     Did they post their votes for Hillary already?      1   \n",
       "2           2   Now, most of the demonstrators gathered last ...      1   \n",
       "3           3  A dozen politically active pastors came here f...      0   \n",
       "4           4  The RS-28 Sarmat missile, dubbed Satan 2, will...      1   \n",
       "\n",
       "                                           lemm_sent   \n",
       "0  comment expect barack obama member fyf911 fuky...  \\\n",
       "1                                  post vote hillary   \n",
       "2  demonstrator gather night exercise constitutio...   \n",
       "3  dozen politically active pastor come private d...   \n",
       "4  rs-28 sarmat missile dub satan 2 replace ss-18...   \n",
       "\n",
       "                                           rephrased   \n",
       "0  ['comment', 'expect', 'barack_obama', 'member'...  \\\n",
       "1                           ['post', 'vote_hillary']   \n",
       "2  ['demonstrator_gather', 'night', 'exercise_con...   \n",
       "3  ['dozen', 'politically_active', 'pastor', 'com...   \n",
       "4  ['rs-28_sarmat', 'missile_dub', 'satan_2', 're...   \n",
       "\n",
       "                                         joined_lemm  \n",
       "0  comment expect barack_obama member fyf911 fuky...  \n",
       "1                                  post vote_hillary  \n",
       "2  demonstrator_gather night exercise_constitutio...  \n",
       "3  dozen politically_active pastor come private_d...  \n",
       "4  rs-28_sarmat missile_dub satan_2 replace_ss-18...  "
      ]
     },
     "execution_count": 6,
     "metadata": {},
     "output_type": "execute_result"
    }
   ],
   "source": [
    "df.head()"
   ]
  },
  {
   "cell_type": "code",
   "execution_count": null,
   "id": "b1ddf27b",
   "metadata": {
    "id": "b1ddf27b",
    "outputId": "74e2303f-e7d2-4fbb-cc8e-6b36964e1888"
   },
   "outputs": [
    {
     "name": "stdout",
     "output_type": "stream",
     "text": [
      "Found 72134 texts.\n"
     ]
    }
   ],
   "source": [
    "texts = df['lemm_sent']\n",
    "labels = df['label']\n",
    "\n",
    "print('Found %s texts.' %texts.shape[0])"
   ]
  },
  {
   "cell_type": "code",
   "execution_count": null,
   "id": "f59b9d63",
   "metadata": {
    "id": "f59b9d63",
    "outputId": "c05c98a4-b5a3-4aa4-eae4-f7e994ece43b"
   },
   "outputs": [
    {
     "data": {
      "image/png": "[encoded data removed]",
      "text/plain": [
       "<Figure size 640x480 with 1 Axes>"
      ]
     },
     "metadata": {},
     "output_type": "display_data"
    },
    {
     "data": {
      "text/plain": [
       "count    72134.000000\n",
       "mean       289.334475\n",
       "std        324.090027\n",
       "min          1.000000\n",
       "25%        125.000000\n",
       "50%        218.000000\n",
       "75%        361.000000\n",
       "max      20759.000000\n",
       "Name: lemm_sent, dtype: float64"
      ]
     },
     "execution_count": 8,
     "metadata": {},
     "output_type": "execute_result"
    }
   ],
   "source": [
    "#plot to see what number of words each sentences have.\n",
    "# the distribution is very skewed, 75% of the sentences have only around 361 words.\n",
    "texts = texts.apply(lambda x: str(x))\n",
    "text_lengths = texts.apply(lambda x: len(x.split(\" \")))\n",
    "plt.hist(text_lengths,bins=500)\n",
    "plt.show()\n",
    "pd.Series(text_lengths).describe()"
   ]
  },
  {
   "cell_type": "code",
   "execution_count": null,
   "id": "f714e404",
   "metadata": {
    "id": "f714e404"
   },
   "outputs": [],
   "source": [
    "# function to plot the AUC-ROC curve and the test and AUC score.\n",
    "from sklearn.metrics import accuracy_score,roc_auc_score,precision_score,recall_score,classification_report,roc_curve\n",
    "\n",
    "\n",
    "\n",
    "def evaluate_model(predict_fun, X_train, y_train, X_test, y_test):\n",
    "    '''\n",
    "    evaluate the model, both training and testing accuraries are reported\n",
    "    '''\n",
    "    # training acc\n",
    "    y_predict_train = predict_fun(X_train)\n",
    "    train_acc = accuracy_score(y_train,y_predict_train)\n",
    "    \n",
    "    # testing acc\n",
    "    y_predict_test = predict_fun(X_test)\n",
    "    test_acc = accuracy_score(y_test,y_predict_test)\n",
    "    \n",
    "\n",
    "    # accuracy = accuracy_score(y_test,y_pred_tex)\n",
    "    roc_auc =roc_auc_score(y_test, y_predict_test)\n",
    "    precision = precision_score(y_pred=y_predict_test, y_true=y_test,zero_division=1)\n",
    "    recall = recall_score(y_pred=y_predict_test, y_true=y_test,zero_division=1)\n",
    "    \n",
    "    cr = classification_report(y_test, y_predict_test,zero_division=1)\n",
    "\n",
    "\n",
    "    fpr, tpr, threshold = roc_curve(y_test, y_predict_test)\n",
    "    plt.plot([0,1], [0,1], 'k--')\n",
    "    plt.plot(fpr, tpr, label= 'Model')\n",
    "    plt.xlabel('False Positive Rate',fontsize=12)\n",
    "    plt.ylabel('True Positive Rate',fontsize=12)\n",
    "    plt.title('ROC Curve',fontsize=20)\n",
    "    plt.legend(fontsize=12)\n",
    "    plt.show()\n",
    "\n",
    "    roc_auc_sc = roc_auc_score(y_test,y_predict_test)\n",
    "\n",
    "    return train_acc, test_acc,cr,roc_auc_sc"
   ]
  },
  {
   "cell_type": "code",
   "execution_count": null,
   "id": "f37b1a97",
   "metadata": {
    "id": "f37b1a97"
   },
   "outputs": [],
   "source": [
    "# preprocesor to tokenize and zero pad the sentences\n",
    "from tensorflow.keras.preprocessing.text import Tokenizer\n",
    "from tensorflow.keras.utils import pad_sequences"
   ]
  },
  {
   "cell_type": "code",
   "execution_count": null,
   "id": "ba7482e4",
   "metadata": {
    "id": "ba7482e4"
   },
   "outputs": [],
   "source": [
    "MAX_SEQUENCE_LENGTH = 1000\n",
    "MAX_NUM_WORDS = 1000\n",
    "EMBEDDING_DIM = 256\n",
    "TEST_SPLIT = 0.2"
   ]
  },
  {
   "cell_type": "code",
   "execution_count": null,
   "id": "6601c1bc",
   "metadata": {
    "id": "6601c1bc",
    "outputId": "4db33b42-149d-48c0-a8c3-dc1ceb2ca67f"
   },
   "outputs": [
    {
     "name": "stdout",
     "output_type": "stream",
     "text": [
      "233928\n",
      "Found 233928 unique tokens.\n",
      "Shape of data tensor: (72134, 1000)\n",
      "Shape of label tensor: (72134,)\n"
     ]
    }
   ],
   "source": [
    "# tokenizing sentences into words \n",
    "tokenizer = Tokenizer(num_words=MAX_NUM_WORDS)\n",
    "# using fit_on_texts method assigning values to particular words\n",
    "tokenizer.fit_on_texts(texts)\n",
    "# texts_to_sequences method is used to give particular integer values to word\n",
    "sequences = tokenizer.texts_to_sequences(texts)\n",
    "\n",
    "# calculating word_index\n",
    "word_index = tokenizer.word_index\n",
    "num_words = min(MAX_NUM_WORDS, len(word_index)) + 1\n",
    "# padding data to the same length for each samples\n",
    "data = pad_sequences(sequences, \n",
    "                     maxlen=MAX_SEQUENCE_LENGTH, \n",
    "                     padding='post', \n",
    "                     truncating='post')\n",
    "print(len(word_index))\n",
    "print('Found %s unique tokens.' % len(word_index))\n",
    "print('Shape of data tensor:', data.shape)\n",
    "print('Shape of label tensor:', labels.shape)"
   ]
  },
  {
   "cell_type": "code",
   "execution_count": null,
   "id": "7ab12d77",
   "metadata": {
    "id": "7ab12d77",
    "outputId": "ae955006-7e27-4817-d6a9-e65d4595eb06"
   },
   "outputs": [
    {
     "name": "stdout",
     "output_type": "stream",
     "text": [
      "train size: 51936\n",
      "test size: 14427\n"
     ]
    }
   ],
   "source": [
    "# split to get test,train and val data\n",
    "from sklearn.model_selection import train_test_split\n",
    "\n",
    "\n",
    "\n",
    "x, x_test, y, y_test = train_test_split(data, \n",
    "                                        labels, \n",
    "                                        test_size=0.2)\n",
    "\n",
    "x_train, x_val, y_train, y_val = train_test_split(x,\n",
    "                                                  y, \n",
    "                                                  test_size=0.1)\n",
    "\n",
    "print('train size:',x_train.shape[0])\n",
    "print('test size:', x_test.shape[0])"
   ]
  },
  {
   "cell_type": "code",
   "execution_count": null,
   "id": "a71ff182",
   "metadata": {
    "id": "a71ff182"
   },
   "outputs": [],
   "source": [
    "# building the model                                                                      \n",
    "\n",
    "from keras import layers\n",
    "from keras.models import Sequential\n",
    "\n",
    "dropout = 0.4\n",
    "model = Sequential()\n",
    "\n",
    "# defining embedding layer where embedding dimension/ vector size is defined as 256 and input length is set as 1000. \n",
    "#Where MAX_NUM_WORDS are unique words.\n",
    "model.add(layers.Embedding(MAX_NUM_WORDS, output_dim=EMBEDDING_DIM, input_length=MAX_SEQUENCE_LENGTH, trainable=False))\n",
    "# defining a convolution layer, number of filters are set as 128 and kernal size is defined as 1 X 5.\n",
    "model.add(layers.Conv1D(128,5, activation='ReLU'))\n",
    "# maxpooling1d layer is used to take maximum values from representation.\n",
    "model.add(layers.MaxPool1D(2))\n",
    "# adding a dropout of 0.4\n",
    "model.add(layers.Dropout(dropout))\n",
    "# defining a convolution layer, number of filters are set as 64 and kernal size is defined as 1 X 3.\n",
    "model.add(layers.Conv1D(64,3, activation='ReLU'))\n",
    "# maxpooling1d layer is used to take maximum values from representation.\n",
    "model.add(layers.MaxPooling1D(2, strides= 2))\n",
    "# defining an LSTM layer with 64 units\n",
    "model.add(layers.LSTM(64,return_sequences=True))\n",
    "# defining an LSTM layer with 32 units\n",
    "model.add(layers.LSTM(32,return_sequences=True))\n",
    "# adding a flattening layer\n",
    "model.add(layers.Flatten())\n",
    "\n",
    "# dense layer with 64 neurons and ReLu activation function\n",
    "model.add(layers.Dense(64, activation='ReLU'))\n",
    "# dropout of 0.4\n",
    "model.add(layers.Dropout(dropout))\n",
    "# dense layer with 16 neurons and ReLu activation function\n",
    "model.add(layers.Dense(16, activation='ReLU'))\n",
    "# output layer with 1 neuron and sigmoid activation for binary classification\n",
    "model.add(layers.Dense(1, activation='sigmoid'))\n",
    "# compile the model\n",
    "model.compile(optimizer='adam', loss='binary_crossentropy', metrics=['accuracy'])"
   ]
  },
  {
   "cell_type": "code",
   "execution_count": null,
   "id": "7ae76a47",
   "metadata": {
    "id": "7ae76a47",
    "outputId": "a6c6bafe-202d-4b1c-b368-1179d5afadfc"
   },
   "outputs": [
    {
     "name": "stdout",
     "output_type": "stream",
     "text": [
      "Model: \"sequential_2\"\n",
      "_________________________________________________________________\n",
      " Layer (type)                Output Shape              Param #   \n",
      "=================================================================\n",
      " embedding_1 (Embedding)     (None, 1000, 256)         256000    \n",
      "                                                                 \n",
      " conv1d_2 (Conv1D)           (None, 996, 128)          163968    \n",
      "                                                                 \n",
      " max_pooling1d_2 (MaxPooling  (None, 498, 128)         0         \n",
      " 1D)                                                             \n",
      "                                                                 \n",
      " dropout_4 (Dropout)         (None, 498, 128)          0         \n",
      "                                                                 \n",
      " conv1d_3 (Conv1D)           (None, 496, 64)           24640     \n",
      "                                                                 \n",
      " max_pooling1d_3 (MaxPooling  (None, 248, 64)          0         \n",
      " 1D)                                                             \n",
      "                                                                 \n",
      " lstm_2 (LSTM)               (None, 248, 64)           33024     \n",
      "                                                                 \n",
      " lstm_3 (LSTM)               (None, 248, 32)           12416     \n",
      "                                                                 \n",
      " flatten (Flatten)           (None, 7936)              0         \n",
      "                                                                 \n",
      " dense_4 (Dense)             (None, 64)                507968    \n",
      "                                                                 \n",
      " dropout_5 (Dropout)         (None, 64)                0         \n",
      "                                                                 \n",
      " dense_5 (Dense)             (None, 16)                1040      \n",
      "                                                                 \n",
      " dense_6 (Dense)             (None, 1)                 17        \n",
      "                                                                 \n",
      "=================================================================\n",
      "Total params: 999,073\n",
      "Trainable params: 743,073\n",
      "Non-trainable params: 256,000\n",
      "_________________________________________________________________\n"
     ]
    }
   ],
   "source": [
    "model.summary() # summary of the model"
   ]
  },
  {
   "cell_type": "code",
   "execution_count": null,
   "id": "9a4185ab",
   "metadata": {
    "id": "9a4185ab",
    "outputId": "303ddf16-a74f-4acd-8641-c2d8ee888cdc"
   },
   "outputs": [
    {
     "name": "stdout",
     "output_type": "stream",
     "text": [
      "Epoch 1/15\n",
      "406/406 [==============================] - 34s 81ms/step - loss: 0.2673 - accuracy: 0.8768 - val_loss: 0.1039 - val_accuracy: 0.9600\n",
      "Epoch 2/15\n",
      "406/406 [==============================] - 32s 79ms/step - loss: 0.1052 - accuracy: 0.9623 - val_loss: 0.0832 - val_accuracy: 0.9705\n",
      "Epoch 3/15\n",
      "406/406 [==============================] - 32s 79ms/step - loss: 0.0788 - accuracy: 0.9721 - val_loss: 0.0704 - val_accuracy: 0.9750\n",
      "Epoch 4/15\n",
      "406/406 [==============================] - 33s 80ms/step - loss: 0.0560 - accuracy: 0.9812 - val_loss: 0.0786 - val_accuracy: 0.9738\n",
      "Epoch 5/15\n",
      "406/406 [==============================] - 32s 79ms/step - loss: 0.0436 - accuracy: 0.9857 - val_loss: 0.0668 - val_accuracy: 0.9757\n",
      "Epoch 6/15\n",
      "406/406 [==============================] - 32s 79ms/step - loss: 0.0364 - accuracy: 0.9878 - val_loss: 0.0898 - val_accuracy: 0.9685\n",
      "Epoch 7/15\n",
      "406/406 [==============================] - 32s 78ms/step - loss: 0.0291 - accuracy: 0.9901 - val_loss: 0.0787 - val_accuracy: 0.9756\n",
      "Epoch 8/15\n",
      "406/406 [==============================] - 32s 79ms/step - loss: 0.0249 - accuracy: 0.9918 - val_loss: 0.0776 - val_accuracy: 0.9730\n",
      "Epoch 9/15\n",
      "406/406 [==============================] - 32s 79ms/step - loss: 0.0216 - accuracy: 0.9932 - val_loss: 0.0663 - val_accuracy: 0.9776\n",
      "Epoch 10/15\n",
      "406/406 [==============================] - 32s 79ms/step - loss: 0.0198 - accuracy: 0.9937 - val_loss: 0.0803 - val_accuracy: 0.9757\n",
      "Epoch 11/15\n",
      "406/406 [==============================] - 32s 79ms/step - loss: 0.0188 - accuracy: 0.9939 - val_loss: 0.0683 - val_accuracy: 0.9794\n",
      "Epoch 12/15\n",
      "406/406 [==============================] - 32s 80ms/step - loss: 0.0177 - accuracy: 0.9941 - val_loss: 0.0809 - val_accuracy: 0.9749\n",
      "Epoch 13/15\n",
      "406/406 [==============================] - 32s 79ms/step - loss: 0.0150 - accuracy: 0.9953 - val_loss: 0.0687 - val_accuracy: 0.9802\n",
      "Epoch 14/15\n",
      "406/406 [==============================] - 32s 79ms/step - loss: 0.0132 - accuracy: 0.9957 - val_loss: 0.0802 - val_accuracy: 0.9785\n",
      "Epoch 15/15\n",
      "406/406 [==============================] - 32s 79ms/step - loss: 0.0116 - accuracy: 0.9963 - val_loss: 0.0860 - val_accuracy: 0.9794\n",
      "total training time: 483.7839238643646\n"
     ]
    }
   ],
   "source": [
    "# train the model\n",
    "import time as t\n",
    "start = t.time()\n",
    "history = model.fit(x_train, \n",
    "                    y_train,\n",
    "                    batch_size=128,initial_epoch=0,\n",
    "                    epochs=15,validation_data=(x_val, y_val))\n",
    "\n",
    "print(\"total training time:\",t.time()-start)"
   ]
  },
  {
   "cell_type": "code",
   "execution_count": null,
   "id": "4Sl7_4N-UfC9",
   "metadata": {
    "id": "4Sl7_4N-UfC9"
   },
   "outputs": [],
   "source": [
    "# plot training and validation accuracy / loss\n",
    "plt.plot(history.history['loss'])\n",
    "plt.plot(history.history['val_loss'])\n",
    "plt.plot(history.history['accuracy'])\n",
    "plt.plot(history.history['val_accuracy'])\n",
    "\n",
    "plt.title('Model accuracy / Loss')\n",
    "plt.xlabel('Epoch')\n",
    "plt.legend(['Training loss', 'Validation loss','Training Accuracy','Validation Accuracy'])\n",
    "plt.show()"
   ]
  },
  {
   "cell_type": "code",
   "execution_count": null,
   "id": "89582d58",
   "metadata": {
    "id": "89582d58",
    "outputId": "4f42811e-1068-458f-c9cc-6cd11df7cc0c"
   },
   "outputs": [
    {
     "name": "stdout",
     "output_type": "stream",
     "text": [
      "Evaluate on test data\n",
      "451/451 [==============================] - 7s 15ms/step - loss: 0.0980 - accuracy: 0.9769\n",
      "test loss, test acc: [0.09797324240207672, 0.9769182801246643]\n"
     ]
    }
   ],
   "source": [
    "# evaluate the model\n",
    "print(\"Evaluate on test data\")\n",
    "results = model.evaluate(x_test, y_test)\n",
    "print(\"test loss, test acc:\", results)"
   ]
  },
  {
   "cell_type": "code",
   "execution_count": null,
   "id": "e3789e28",
   "metadata": {
    "id": "e3789e28",
    "outputId": "30359551-a6fb-4cdd-e110-2d72ccccc972"
   },
   "outputs": [
    {
     "name": "stdout",
     "output_type": "stream",
     "text": [
      "1623/1623 [==============================] - 20s 12ms/step\n",
      "451/451 [==============================] - 6s 12ms/step\n"
     ]
    },
    {
     "data": {
      "image/png": "[encoded data removed]",
      "text/plain": [
       "<Figure size 640x480 with 1 Axes>"
      ]
     },
     "metadata": {},
     "output_type": "display_data"
    },
    {
     "name": "stdout",
     "output_type": "stream",
     "text": [
      "Training Accuracy: 99.93%\n",
      "Testing Accuracy: 97.69%\n",
      "Classification Report:\n",
      "               precision    recall  f1-score   support\n",
      "\n",
      "           0       0.98      0.97      0.98      7124\n",
      "           1       0.97      0.98      0.98      7303\n",
      "\n",
      "    accuracy                           0.98     14427\n",
      "   macro avg       0.98      0.98      0.98     14427\n",
      "weighted avg       0.98      0.98      0.98     14427\n",
      "\n",
      "AUC score 0.9768605358046655\n",
      "Total time required for testing 26.00427532196045\n"
     ]
    }
   ],
   "source": [
    "# plot the ROC Curve and find the AUC score\n",
    "import time as t\n",
    "start = t.time()\n",
    "train_acc, test_acc,cr,roc_auc_sc = evaluate_model(lambda x: np.rint(model.predict(x)),\n",
    "                                     x_train, \n",
    "                                     y_train, \n",
    "                                     x_test, \n",
    "                                     y_test)\n",
    "print(\"Training Accuracy: {:.2f}%\".format(train_acc*100))\n",
    "print(\"Testing Accuracy: {:.2f}%\".format(test_acc*100))\n",
    "print(\"Classification Report:\\n\",cr)\n",
    "print(\"AUC score\",roc_auc_sc)\n",
    "print(\"Total time required for testing\",t.time()-start)"
   ]
  },
  {
   "cell_type": "code",
   "execution_count": null,
   "id": "e3cc1c2a",
   "metadata": {
    "id": "e3cc1c2a"
   },
   "outputs": [],
   "source": [
    "    "
   ]
  }
 ],
 "metadata": {
  "colab": {
   "provenance": []
  },
  "kernelspec": {
   "display_name": "Python 3 (ipykernel)",
   "language": "python",
   "name": "python3"
  },
  "language_info": {
   "codemirror_mode": {
    "name": "ipython",
    "version": 3
   },
   "file_extension": ".py",
   "mimetype": "text/x-python",
   "name": "python",
   "nbconvert_exporter": "python",
   "pygments_lexer": "ipython3",
   "version": "3.10.11"
  }
 },
 "nbformat": 4,
 "nbformat_minor": 5
}
