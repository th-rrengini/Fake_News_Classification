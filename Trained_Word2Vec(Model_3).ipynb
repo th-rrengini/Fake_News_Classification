{
 "cells": [
  {
   "cell_type": "markdown",
   "id": "439e5e50",
   "metadata": {},
   "source": [
    "#### 2CNN + 2LSTM Layers \n",
    "#### Stop word removal, Lemmatization\n",
    "#### Custom Word2Vec embedding (using gensim library and WelFake dataset)\n"
   ]
  },
  {
   "cell_type": "code",
   "execution_count": 1,
   "id": "TICVjRwzlpDI",
   "metadata": {
    "colab": {
     "base_uri": "https://localhost:8080/"
    },
    "executionInfo": {
     "elapsed": 32353,
     "status": "ok",
     "timestamp": 1686362590308,
     "user": {
      "displayName": "Harish Sundaralingam",
      "userId": "10841756153612022352"
     },
     "user_tz": 240
    },
    "id": "TICVjRwzlpDI",
    "outputId": "1ddfe2e3-7735-45b7-f1c8-840635e851d5"
   },
   "outputs": [
    {
     "name": "stdout",
     "output_type": "stream",
     "text": [
      "Mounted at /content/drive\n"
     ]
    }
   ],
   "source": [
    "from google.colab import drive\n",
    "drive.mount('/content/drive')"
   ]
  },
  {
   "cell_type": "code",
   "execution_count": 2,
   "id": "1ca80fba",
   "metadata": {
    "executionInfo": {
     "elapsed": 3,
     "status": "ok",
     "timestamp": 1686362590308,
     "user": {
      "displayName": "Harish Sundaralingam",
      "userId": "10841756153612022352"
     },
     "user_tz": 240
    },
    "id": "1ca80fba"
   },
   "outputs": [],
   "source": [
    "# import necessary packages\n",
    "import pandas as pd\n",
    "import numpy as np\n",
    "import matplotlib.pyplot as plt\n",
    "import re"
   ]
  },
  {
   "cell_type": "code",
   "execution_count": 3,
   "id": "4d127666",
   "metadata": {
    "executionInfo": {
     "elapsed": 19625,
     "status": "ok",
     "timestamp": 1686362609931,
     "user": {
      "displayName": "Harish Sundaralingam",
      "userId": "10841756153612022352"
     },
     "user_tz": 240
    },
    "id": "4d127666"
   },
   "outputs": [],
   "source": [
    "df = pd.read_csv('/content/drive/MyDrive/ProjectFakeNews/processed_fake_news.csv') # load the prepocessed dataset"
   ]
  },
  {
   "cell_type": "code",
   "execution_count": 4,
   "id": "67f77b19",
   "metadata": {
    "colab": {
     "base_uri": "https://localhost:8080/",
     "height": 384
    },
    "executionInfo": {
     "elapsed": 7,
     "status": "ok",
     "timestamp": 1686362609932,
     "user": {
      "displayName": "Harish Sundaralingam",
      "userId": "10841756153612022352"
     },
     "user_tz": 240
    },
    "id": "67f77b19",
    "outputId": "801f9ce1-b726-4961-951b-8d9689eb892f"
   },
   "outputs": [
    {
     "data": {
      "text/html": [
       "\n",
       "  <div id=\"df-5afdd937-02f4-438a-a2cf-565f256978d7\">\n",
       "    <div class=\"colab-df-container\">\n",
       "      <div>\n",
       "<style scoped>\n",
       "    .dataframe tbody tr th:only-of-type {\n",
       "        vertical-align: middle;\n",
       "    }\n",
       "\n",
       "    .dataframe tbody tr th {\n",
       "        vertical-align: top;\n",
       "    }\n",
       "\n",
       "    .dataframe thead th {\n",
       "        text-align: right;\n",
       "    }\n",
       "</style>\n",
       "<table border=\"1\" class=\"dataframe\">\n",
       "  <thead>\n",
       "    <tr style=\"text-align: right;\">\n",
       "      <th></th>\n",
       "      <th>Unnamed: 0</th>\n",
       "      <th>text</th>\n",
       "      <th>label</th>\n",
       "      <th>lemm_sent</th>\n",
       "      <th>rephrased</th>\n",
       "      <th>joined_lemm</th>\n",
       "    </tr>\n",
       "  </thead>\n",
       "  <tbody>\n",
       "    <tr>\n",
       "      <th>0</th>\n",
       "      <td>0</td>\n",
       "      <td>No comment is expected from Barack Obama Membe...</td>\n",
       "      <td>1</td>\n",
       "      <td>['comment', 'expect', 'barack', 'obama', 'memb...</td>\n",
       "      <td>['comment', 'expect', 'barack_obama', 'member'...</td>\n",
       "      <td>comment expect barack_obama member fyf911 fuky...</td>\n",
       "    </tr>\n",
       "    <tr>\n",
       "      <th>1</th>\n",
       "      <td>1</td>\n",
       "      <td>Did they post their votes for Hillary already?</td>\n",
       "      <td>1</td>\n",
       "      <td>['post', 'vote', 'hillary']</td>\n",
       "      <td>['post', 'vote_hillary']</td>\n",
       "      <td>post vote_hillary</td>\n",
       "    </tr>\n",
       "    <tr>\n",
       "      <th>2</th>\n",
       "      <td>2</td>\n",
       "      <td>Now, most of the demonstrators gathered last ...</td>\n",
       "      <td>1</td>\n",
       "      <td>['demonstrator', 'gather', 'night', 'exercise'...</td>\n",
       "      <td>['demonstrator_gather', 'night', 'exercise_con...</td>\n",
       "      <td>demonstrator_gather night exercise_constitutio...</td>\n",
       "    </tr>\n",
       "    <tr>\n",
       "      <th>3</th>\n",
       "      <td>3</td>\n",
       "      <td>A dozen politically active pastors came here f...</td>\n",
       "      <td>0</td>\n",
       "      <td>['dozen', 'politically', 'active', 'pastor', '...</td>\n",
       "      <td>['dozen', 'politically_active', 'pastor', 'com...</td>\n",
       "      <td>dozen politically_active pastor come private_d...</td>\n",
       "    </tr>\n",
       "    <tr>\n",
       "      <th>4</th>\n",
       "      <td>4</td>\n",
       "      <td>The RS-28 Sarmat missile, dubbed Satan 2, will...</td>\n",
       "      <td>1</td>\n",
       "      <td>['rs-28', 'sarmat', 'missile', 'dub', 'satan',...</td>\n",
       "      <td>['rs-28_sarmat', 'missile_dub', 'satan_2', 're...</td>\n",
       "      <td>rs-28_sarmat missile_dub satan_2 replace_ss-18...</td>\n",
       "    </tr>\n",
       "  </tbody>\n",
       "</table>\n",
       "</div>\n",
       "      <button class=\"colab-df-convert\" onclick=\"convertToInteractive('df-5afdd937-02f4-438a-a2cf-565f256978d7')\"\n",
       "              title=\"Convert this dataframe to an interactive table.\"\n",
       "              style=\"display:none;\">\n",
       "        \n",
       "  <svg xmlns=\"http://www.w3.org/2000/svg\" height=\"24px\"viewBox=\"0 0 24 24\"\n",
       "       width=\"24px\">\n",
       "    <path d=\"M0 0h24v24H0V0z\" fill=\"none\"/>\n",
       "    <path d=\"M18.56 5.44l.94 2.06.94-2.06 2.06-.94-2.06-.94-.94-2.06-.94 2.06-2.06.94zm-11 1L8.5 8.5l.94-2.06 2.06-.94-2.06-.94L8.5 2.5l-.94 2.06-2.06.94zm10 10l.94 2.06.94-2.06 2.06-.94-2.06-.94-.94-2.06-.94 2.06-2.06.94z\"/><path d=\"M17.41 7.96l-1.37-1.37c-.4-.4-.92-.59-1.43-.59-.52 0-1.04.2-1.43.59L10.3 9.45l-7.72 7.72c-.78.78-.78 2.05 0 2.83L4 21.41c.39.39.9.59 1.41.59.51 0 1.02-.2 1.41-.59l7.78-7.78 2.81-2.81c.8-.78.8-2.07 0-2.86zM5.41 20L4 18.59l7.72-7.72 1.47 1.35L5.41 20z\"/>\n",
       "  </svg>\n",
       "      </button>\n",
       "      \n",
       "  <style>\n",
       "    .colab-df-container {\n",
       "      display:flex;\n",
       "      flex-wrap:wrap;\n",
       "      gap: 12px;\n",
       "    }\n",
       "\n",
       "    .colab-df-convert {\n",
       "      background-color: #E8F0FE;\n",
       "      border: none;\n",
       "      border-radius: 50%;\n",
       "      cursor: pointer;\n",
       "      display: none;\n",
       "      fill: #1967D2;\n",
       "      height: 32px;\n",
       "      padding: 0 0 0 0;\n",
       "      width: 32px;\n",
       "    }\n",
       "\n",
       "    .colab-df-convert:hover {\n",
       "      background-color: #E2EBFA;\n",
       "      box-shadow: 0px 1px 2px rgba(60, 64, 67, 0.3), 0px 1px 3px 1px rgba(60, 64, 67, 0.15);\n",
       "      fill: #174EA6;\n",
       "    }\n",
       "\n",
       "    [theme=dark] .colab-df-convert {\n",
       "      background-color: #3B4455;\n",
       "      fill: #D2E3FC;\n",
       "    }\n",
       "\n",
       "    [theme=dark] .colab-df-convert:hover {\n",
       "      background-color: #434B5C;\n",
       "      box-shadow: 0px 1px 3px 1px rgba(0, 0, 0, 0.15);\n",
       "      filter: drop-shadow(0px 1px 2px rgba(0, 0, 0, 0.3));\n",
       "      fill: #FFFFFF;\n",
       "    }\n",
       "  </style>\n",
       "\n",
       "      <script>\n",
       "        const buttonEl =\n",
       "          document.querySelector('#df-5afdd937-02f4-438a-a2cf-565f256978d7 button.colab-df-convert');\n",
       "        buttonEl.style.display =\n",
       "          google.colab.kernel.accessAllowed ? 'block' : 'none';\n",
       "\n",
       "        async function convertToInteractive(key) {\n",
       "          const element = document.querySelector('#df-5afdd937-02f4-438a-a2cf-565f256978d7');\n",
       "          const dataTable =\n",
       "            await google.colab.kernel.invokeFunction('convertToInteractive',\n",
       "                                                     [key], {});\n",
       "          if (!dataTable) return;\n",
       "\n",
       "          const docLinkHtml = 'Like what you see? Visit the ' +\n",
       "            '<a target=\"_blank\" href=https://colab.research.google.com/notebooks/data_table.ipynb>data table notebook</a>'\n",
       "            + ' to learn more about interactive tables.';\n",
       "          element.innerHTML = '';\n",
       "          dataTable['output_type'] = 'display_data';\n",
       "          await google.colab.output.renderOutput(dataTable, element);\n",
       "          const docLink = document.createElement('div');\n",
       "          docLink.innerHTML = docLinkHtml;\n",
       "          element.appendChild(docLink);\n",
       "        }\n",
       "      </script>\n",
       "    </div>\n",
       "  </div>\n",
       "  "
      ],
      "text/plain": [
       "   Unnamed: 0                                               text  label  \\\n",
       "0           0  No comment is expected from Barack Obama Membe...      1   \n",
       "1           1     Did they post their votes for Hillary already?      1   \n",
       "2           2   Now, most of the demonstrators gathered last ...      1   \n",
       "3           3  A dozen politically active pastors came here f...      0   \n",
       "4           4  The RS-28 Sarmat missile, dubbed Satan 2, will...      1   \n",
       "\n",
       "                                           lemm_sent  \\\n",
       "0  ['comment', 'expect', 'barack', 'obama', 'memb...   \n",
       "1                        ['post', 'vote', 'hillary']   \n",
       "2  ['demonstrator', 'gather', 'night', 'exercise'...   \n",
       "3  ['dozen', 'politically', 'active', 'pastor', '...   \n",
       "4  ['rs-28', 'sarmat', 'missile', 'dub', 'satan',...   \n",
       "\n",
       "                                           rephrased  \\\n",
       "0  ['comment', 'expect', 'barack_obama', 'member'...   \n",
       "1                           ['post', 'vote_hillary']   \n",
       "2  ['demonstrator_gather', 'night', 'exercise_con...   \n",
       "3  ['dozen', 'politically_active', 'pastor', 'com...   \n",
       "4  ['rs-28_sarmat', 'missile_dub', 'satan_2', 're...   \n",
       "\n",
       "                                         joined_lemm  \n",
       "0  comment expect barack_obama member fyf911 fuky...  \n",
       "1                                  post vote_hillary  \n",
       "2  demonstrator_gather night exercise_constitutio...  \n",
       "3  dozen politically_active pastor come private_d...  \n",
       "4  rs-28_sarmat missile_dub satan_2 replace_ss-18...  "
      ]
     },
     "execution_count": 4,
     "metadata": {},
     "output_type": "execute_result"
    }
   ],
   "source": [
    "df.head()"
   ]
  },
  {
   "cell_type": "code",
   "execution_count": 5,
   "id": "595e5236",
   "metadata": {
    "executionInfo": {
     "elapsed": 4,
     "status": "ok",
     "timestamp": 1686362609932,
     "user": {
      "displayName": "Harish Sundaralingam",
      "userId": "10841756153612022352"
     },
     "user_tz": 240
    },
    "id": "595e5236"
   },
   "outputs": [],
   "source": [
    "df['joined_lemm'] = df.joined_lemm.apply(lambda x: str(x))"
   ]
  },
  {
   "cell_type": "code",
   "execution_count": 6,
   "id": "ae5a6510",
   "metadata": {
    "colab": {
     "base_uri": "https://localhost:8080/"
    },
    "executionInfo": {
     "elapsed": 1834,
     "status": "ok",
     "timestamp": 1686362611763,
     "user": {
      "displayName": "Harish Sundaralingam",
      "userId": "10841756153612022352"
     },
     "user_tz": 240
    },
    "id": "ae5a6510",
    "outputId": "33cb0d5e-a595-4de1-b047-b0c69bdce677"
   },
   "outputs": [
    {
     "name": "stderr",
     "output_type": "stream",
     "text": [
      "[nltk_data] Downloading package punkt to /root/nltk_data...\n",
      "[nltk_data]   Unzipping tokenizers/punkt.zip.\n"
     ]
    },
    {
     "data": {
      "text/plain": [
       "True"
      ]
     },
     "execution_count": 6,
     "metadata": {},
     "output_type": "execute_result"
    }
   ],
   "source": [
    "import nltk\n",
    "nltk.download('punkt')"
   ]
  },
  {
   "cell_type": "code",
   "execution_count": 7,
   "id": "04d684f7",
   "metadata": {
    "executionInfo": {
     "elapsed": 13301,
     "status": "ok",
     "timestamp": 1686362625062,
     "user": {
      "displayName": "Harish Sundaralingam",
      "userId": "10841756153612022352"
     },
     "user_tz": 240
    },
    "id": "04d684f7"
   },
   "outputs": [],
   "source": [
    "# tokenize joined_lemm column and prepare the data to train our word2vec model\n",
    "X = []\n",
    "tokenizer = nltk.tokenize.RegexpTokenizer(r'\\w+')\n",
    "for par in df[\"joined_lemm\"].values:\n",
    "    tmp = []\n",
    "    sentences = nltk.sent_tokenize(par)\n",
    "    for sent in sentences:\n",
    "        sent = sent.lower()\n",
    "        tokens = tokenizer.tokenize(sent)\n",
    "        filtered_words = [w.strip() for w in tokens if len(w) > 1]\n",
    "        tmp.extend(filtered_words)\n",
    "    X.append(tmp)"
   ]
  },
  {
   "cell_type": "code",
   "execution_count": 8,
   "id": "4dd05efc",
   "metadata": {
    "executionInfo": {
     "elapsed": 1281,
     "status": "ok",
     "timestamp": 1686362626339,
     "user": {
      "displayName": "Harish Sundaralingam",
      "userId": "10841756153612022352"
     },
     "user_tz": 240
    },
    "id": "4dd05efc"
   },
   "outputs": [],
   "source": [
    "from gensim.models import Word2Vec "
   ]
  },
  {
   "cell_type": "code",
   "execution_count": 9,
   "id": "bc4497ad",
   "metadata": {
    "colab": {
     "base_uri": "https://localhost:8080/"
    },
    "executionInfo": {
     "elapsed": 11489,
     "status": "ok",
     "timestamp": 1686362637825,
     "user": {
      "displayName": "Harish Sundaralingam",
      "userId": "10841756153612022352"
     },
     "user_tz": 240
    },
    "id": "bc4497ad",
    "outputId": "769e2a8a-8699-4271-ff02-f0890af1b1aa"
   },
   "outputs": [
    {
     "name": "stderr",
     "output_type": "stream",
     "text": [
      "WARNING:gensim.models.word2vec:EPOCH 0: supplied example count (0) did not equal expected count (72134)\n",
      "WARNING:gensim.models.word2vec:EPOCH 0: supplied raw word count (0) did not equal expected count (14209169)\n",
      "WARNING:gensim.models.word2vec:EPOCH 1: supplied example count (0) did not equal expected count (72134)\n",
      "WARNING:gensim.models.word2vec:EPOCH 1: supplied raw word count (0) did not equal expected count (14209169)\n",
      "WARNING:gensim.models.word2vec:EPOCH 2: supplied example count (0) did not equal expected count (72134)\n",
      "WARNING:gensim.models.word2vec:EPOCH 2: supplied raw word count (0) did not equal expected count (14209169)\n",
      "WARNING:gensim.models.word2vec:EPOCH 3: supplied example count (0) did not equal expected count (72134)\n",
      "WARNING:gensim.models.word2vec:EPOCH 3: supplied raw word count (0) did not equal expected count (14209169)\n",
      "WARNING:gensim.models.word2vec:EPOCH 4: supplied example count (0) did not equal expected count (72134)\n",
      "WARNING:gensim.models.word2vec:EPOCH 4: supplied raw word count (0) did not equal expected count (14209169)\n",
      "WARNING:gensim.models.word2vec:Effective 'alpha' higher than previous training cycles\n",
      "WARNING:gensim.models.word2vec:EPOCH 0: supplied example count (0) did not equal expected count (72134)\n",
      "WARNING:gensim.models.word2vec:EPOCH 1: supplied example count (0) did not equal expected count (72134)\n",
      "WARNING:gensim.models.word2vec:EPOCH 2: supplied example count (0) did not equal expected count (72134)\n",
      "WARNING:gensim.models.word2vec:EPOCH 3: supplied example count (0) did not equal expected count (72134)\n",
      "WARNING:gensim.models.word2vec:EPOCH 4: supplied example count (0) did not equal expected count (72134)\n",
      "WARNING:gensim.models.word2vec:EPOCH 5: supplied example count (0) did not equal expected count (72134)\n",
      "WARNING:gensim.models.word2vec:EPOCH 6: supplied example count (0) did not equal expected count (72134)\n",
      "WARNING:gensim.models.word2vec:EPOCH 7: supplied example count (0) did not equal expected count (72134)\n",
      "WARNING:gensim.models.word2vec:EPOCH 8: supplied example count (0) did not equal expected count (72134)\n",
      "WARNING:gensim.models.word2vec:EPOCH 9: supplied example count (0) did not equal expected count (72134)\n"
     ]
    },
    {
     "data": {
      "text/plain": [
       "(0, 0)"
      ]
     },
     "execution_count": 9,
     "metadata": {},
     "output_type": "execute_result"
    }
   ],
   "source": [
    "# initialize our word2vec model\n",
    "model_w2v = Word2Vec(\n",
    "            X,\n",
    "            vector_size=300, # desired no. of features/independent variables\n",
    "            window=5, # context window size                                \n",
    "            workers= -1, # no.of cores\n",
    ") \n",
    "\n",
    "#train our word2vec model\n",
    "model_w2v.train(X, total_examples= len(df['joined_lemm']), epochs=10)"
   ]
  },
  {
   "cell_type": "code",
   "execution_count": 10,
   "id": "6d63c2c1",
   "metadata": {
    "colab": {
     "base_uri": "https://localhost:8080/"
    },
    "executionInfo": {
     "elapsed": 14,
     "status": "ok",
     "timestamp": 1686362637825,
     "user": {
      "displayName": "Harish Sundaralingam",
      "userId": "10841756153612022352"
     },
     "user_tz": 240
    },
    "id": "6d63c2c1",
    "outputId": "f5209181-5a25-4e88-dcdb-e21e0327eb71"
   },
   "outputs": [
    {
     "data": {
      "text/plain": [
       "265789"
      ]
     },
     "execution_count": 10,
     "metadata": {},
     "output_type": "execute_result"
    }
   ],
   "source": [
    "# vocabulary length\n",
    "len(model_w2v.wv)"
   ]
  },
  {
   "cell_type": "code",
   "execution_count": 11,
   "id": "42297352",
   "metadata": {
    "colab": {
     "base_uri": "https://localhost:8080/"
    },
    "executionInfo": {
     "elapsed": 8,
     "status": "ok",
     "timestamp": 1686362637826,
     "user": {
      "displayName": "Harish Sundaralingam",
      "userId": "10841756153612022352"
     },
     "user_tz": 240
    },
    "id": "42297352",
    "outputId": "eb947f4d-a20f-47a3-8f73-6badbbdfc532"
   },
   "outputs": [
    {
     "data": {
      "text/plain": [
       "[('dollar_amount', 0.26124975085258484),\n",
       " ('agonize', 0.24679452180862427),\n",
       " ('torah', 0.24466831982135773),\n",
       " ('galloway', 0.2388921082019806),\n",
       " ('barrel_day', 0.23860499262809753),\n",
       " ('repeatedly_question', 0.23729759454727173),\n",
       " ('force_baltic', 0.23728638887405396),\n",
       " ('entire_book', 0.23591195046901703),\n",
       " ('fighting_chance', 0.23577436804771423),\n",
       " ('deliberative_process', 0.2350725382566452)]"
      ]
     },
     "execution_count": 11,
     "metadata": {},
     "output_type": "execute_result"
    }
   ],
   "source": [
    "# similar words\n",
    "model_w2v.wv.most_similar(\"trump\")"
   ]
  },
  {
   "cell_type": "code",
   "execution_count": 12,
   "id": "717a3be3",
   "metadata": {
    "executionInfo": {
     "elapsed": 2748,
     "status": "ok",
     "timestamp": 1686362640569,
     "user": {
      "displayName": "Harish Sundaralingam",
      "userId": "10841756153612022352"
     },
     "user_tz": 240
    },
    "id": "717a3be3"
   },
   "outputs": [],
   "source": [
    "from tensorflow.keras.preprocessing.text import Tokenizer\n",
    "from tensorflow.keras.utils import pad_sequences"
   ]
  },
  {
   "cell_type": "code",
   "execution_count": 13,
   "id": "d2634479",
   "metadata": {
    "executionInfo": {
     "elapsed": 6,
     "status": "ok",
     "timestamp": 1686362640570,
     "user": {
      "displayName": "Harish Sundaralingam",
      "userId": "10841756153612022352"
     },
     "user_tz": 240
    },
    "id": "d2634479"
   },
   "outputs": [],
   "source": [
    "MAX_SEQUENCE_LENGTH = 1000\n",
    "EMBEDDING_DIM = 300\n",
    "TEST_SPLIT = 0.2"
   ]
  },
  {
   "cell_type": "code",
   "execution_count": 14,
   "id": "4e6dc525",
   "metadata": {
    "colab": {
     "base_uri": "https://localhost:8080/"
    },
    "executionInfo": {
     "elapsed": 5,
     "status": "ok",
     "timestamp": 1686362640570,
     "user": {
      "displayName": "Harish Sundaralingam",
      "userId": "10841756153612022352"
     },
     "user_tz": 240
    },
    "id": "4e6dc525",
    "outputId": "94d840f2-a2dd-4558-ffae-71c7b876ee62"
   },
   "outputs": [
    {
     "name": "stdout",
     "output_type": "stream",
     "text": [
      "Found 72134 texts.\n"
     ]
    }
   ],
   "source": [
    "texts = df['joined_lemm']\n",
    "labels = df['label']\n",
    "\n",
    "print('Found %s texts.' %texts.shape[0])"
   ]
  },
  {
   "cell_type": "code",
   "execution_count": 15,
   "id": "88159755",
   "metadata": {
    "colab": {
     "base_uri": "https://localhost:8080/"
    },
    "executionInfo": {
     "elapsed": 31150,
     "status": "ok",
     "timestamp": 1686362671716,
     "user": {
      "displayName": "Harish Sundaralingam",
      "userId": "10841756153612022352"
     },
     "user_tz": 240
    },
    "id": "88159755",
    "outputId": "c4960a19-66e3-4ebf-f7ac-a2086277c197"
   },
   "outputs": [
    {
     "name": "stdout",
     "output_type": "stream",
     "text": [
      "233928\n",
      "Found 233928 unique tokens.\n",
      "Shape of data tensor: (72134, 1000)\n",
      "Shape of label tensor: (72134,)\n"
     ]
    }
   ],
   "source": [
    "# tokenizing sentences into words \n",
    "tokenizer = Tokenizer()\n",
    "# using fit_on_texts method assigning values to particular words\n",
    "tokenizer.fit_on_texts(texts)\n",
    "# texts_to_sequences method is used to give particular integer values to word\n",
    "sequences = tokenizer.texts_to_sequences(texts)\n",
    "\n",
    "# calculating word_index\n",
    "word_index = tokenizer.word_index\n",
    "# padding data to the same length for each samples\n",
    "data = pad_sequences(sequences, \n",
    "                     maxlen=MAX_SEQUENCE_LENGTH, \n",
    "                     padding='post', \n",
    "                     truncating='post')\n",
    "print(len(word_index))\n",
    "print('Found %s unique tokens.' % len(word_index))\n",
    "print('Shape of data tensor:', data.shape)\n",
    "print('Shape of label tensor:', labels.shape)"
   ]
  },
  {
   "cell_type": "code",
   "execution_count": 16,
   "id": "b8b6f9fe",
   "metadata": {
    "colab": {
     "base_uri": "https://localhost:8080/"
    },
    "executionInfo": {
     "elapsed": 6,
     "status": "ok",
     "timestamp": 1686362671717,
     "user": {
      "displayName": "Harish Sundaralingam",
      "userId": "10841756153612022352"
     },
     "user_tz": 240
    },
    "id": "b8b6f9fe",
    "outputId": "dfaaf4a6-2793-4ebb-d1e7-fba925f9e7c9",
    "scrolled": true
   },
   "outputs": [
    {
     "name": "stdout",
     "output_type": "stream",
     "text": [
      "say -> 1\n",
      "s -> 2\n",
      "trump -> 3\n",
      "president -> 4\n",
      "people -> 5\n",
      "year -> 6\n",
      "state -> 7\n",
      "clinton -> 8\n",
      "mr -> 9\n",
      "u -> 10\n"
     ]
    }
   ],
   "source": [
    "#Mapping is preserved in dictionary -> word_index property of instance\n",
    "word_index = tokenizer.word_index\n",
    "for word, num in word_index.items():\n",
    "    print(f\"{word} -> {num}\")\n",
    "    if num == 10:\n",
    "        break  "
   ]
  },
  {
   "cell_type": "code",
   "execution_count": 17,
   "id": "6d107835",
   "metadata": {
    "colab": {
     "base_uri": "https://localhost:8080/",
     "height": 430
    },
    "executionInfo": {
     "elapsed": 1506,
     "status": "ok",
     "timestamp": 1686362673220,
     "user": {
      "displayName": "Harish Sundaralingam",
      "userId": "10841756153612022352"
     },
     "user_tz": 240
    },
    "id": "6d107835",
    "outputId": "9fd318fa-4a92-49a2-f006-ba723740a10d"
   },
   "outputs": [
    {
     "data": {
      "image/png": "[encoded data removed]",
      "text/plain": [
       "<Figure size 640x480 with 1 Axes>"
      ]
     },
     "metadata": {},
     "output_type": "display_data"
    }
   ],
   "source": [
    "# plot the distibution of the sentence length\n",
    "plt.hist([len(x) for x in sequences], bins=500)\n",
    "plt.show()"
   ]
  },
  {
   "cell_type": "code",
   "execution_count": 18,
   "id": "5cca2e12",
   "metadata": {
    "executionInfo": {
     "elapsed": 7,
     "status": "ok",
     "timestamp": 1686362673221,
     "user": {
      "displayName": "Harish Sundaralingam",
      "userId": "10841756153612022352"
     },
     "user_tz": 240
    },
    "id": "5cca2e12"
   },
   "outputs": [],
   "source": [
    "vocab_size = len(tokenizer.word_index) + 1 # vocabulary size"
   ]
  },
  {
   "cell_type": "code",
   "execution_count": 19,
   "id": "7e6a672f",
   "metadata": {
    "colab": {
     "base_uri": "https://localhost:8080/"
    },
    "executionInfo": {
     "elapsed": 5,
     "status": "ok",
     "timestamp": 1686362673221,
     "user": {
      "displayName": "Harish Sundaralingam",
      "userId": "10841756153612022352"
     },
     "user_tz": 240
    },
    "id": "7e6a672f",
    "outputId": "b56525f8-1815-4bb4-da39-ed63676c29df"
   },
   "outputs": [
    {
     "data": {
      "text/plain": [
       "233929"
      ]
     },
     "execution_count": 19,
     "metadata": {},
     "output_type": "execute_result"
    }
   ],
   "source": [
    "vocab_size"
   ]
  },
  {
   "cell_type": "code",
   "execution_count": 20,
   "id": "460e992d",
   "metadata": {
    "executionInfo": {
     "elapsed": 3,
     "status": "ok",
     "timestamp": 1686362673221,
     "user": {
      "displayName": "Harish Sundaralingam",
      "userId": "10841756153612022352"
     },
     "user_tz": 240
    },
    "id": "460e992d"
   },
   "outputs": [],
   "source": [
    "embedding_matrix = np.zeros((vocab_size, EMBEDDING_DIM)) # initialize the embedding matrix"
   ]
  },
  {
   "cell_type": "code",
   "execution_count": 21,
   "id": "36212fba",
   "metadata": {
    "executionInfo": {
     "elapsed": 2702,
     "status": "ok",
     "timestamp": 1686362675921,
     "user": {
      "displayName": "Harish Sundaralingam",
      "userId": "10841756153612022352"
     },
     "user_tz": 240
    },
    "id": "36212fba"
   },
   "outputs": [],
   "source": [
    "# create an embedding matrix from the word2vec model to pass to the embedding layer as weights\n",
    "for word, i in word_index.items():\n",
    "    try:\n",
    "        embedding_vector = model_w2v.wv[word]\n",
    "        embedding_matrix[i] = embedding_vector\n",
    "    except KeyError:\n",
    "        embedding_matrix[i]=np.random.normal(0,np.sqrt(0.25),EMBEDDING_DIM) # if word is not found random numbers are assigned."
   ]
  },
  {
   "cell_type": "code",
   "execution_count": 22,
   "id": "2749e945",
   "metadata": {
    "colab": {
     "base_uri": "https://localhost:8080/"
    },
    "executionInfo": {
     "elapsed": 5,
     "status": "ok",
     "timestamp": 1686362675922,
     "user": {
      "displayName": "Harish Sundaralingam",
      "userId": "10841756153612022352"
     },
     "user_tz": 240
    },
    "id": "2749e945",
    "outputId": "77cb2c86-b901-481b-9353-a4870ae39291"
   },
   "outputs": [
    {
     "name": "stdout",
     "output_type": "stream",
     "text": [
      "train size: 51936\n",
      "test size: 14427\n"
     ]
    }
   ],
   "source": [
    "from sklearn.model_selection import train_test_split\n",
    "\n",
    "# test,train and validation split.\n",
    "\n",
    "x, x_test, y, y_test = train_test_split(data, \n",
    "                                        labels, \n",
    "                                        test_size=0.2)\n",
    "\n",
    "x_train, x_val, y_train, y_val = train_test_split(x,\n",
    "                                                  y, \n",
    "                                                  test_size=0.1)\n",
    "\n",
    "print('train size:',x_train.shape[0])\n",
    "print('test size:', x_test.shape[0])"
   ]
  },
  {
   "cell_type": "code",
   "execution_count": 23,
   "id": "4ae030e1",
   "metadata": {
    "executionInfo": {
     "elapsed": 4,
     "status": "ok",
     "timestamp": 1686362676985,
     "user": {
      "displayName": "Harish Sundaralingam",
      "userId": "10841756153612022352"
     },
     "user_tz": 240
    },
    "id": "4ae030e1"
   },
   "outputs": [],
   "source": [
    "from keras import layers\n",
    "from keras.models import Sequential"
   ]
  },
  {
   "cell_type": "code",
   "execution_count": 24,
   "id": "285984fc",
   "metadata": {
    "executionInfo": {
     "elapsed": 3642,
     "status": "ok",
     "timestamp": 1686362680625,
     "user": {
      "displayName": "Harish Sundaralingam",
      "userId": "10841756153612022352"
     },
     "user_tz": 240
    },
    "id": "285984fc"
   },
   "outputs": [],
   "source": [
    "dropout = 0.4\n",
    "model = Sequential()\n",
    "\n",
    "# defining embedding layer where embedding dimension/ vector size is defined as 300 and input length is set as 1000. \n",
    "model.add(layers.Embedding(vocab_size, output_dim=EMBEDDING_DIM, weights=[embedding_matrix], input_length=MAX_SEQUENCE_LENGTH, trainable=False))\n",
    "# defining a convolution layer, number of filters are set as 128 and kernal size is defined as 1 X 5.\n",
    "model.add(layers.Conv1D(128,5, activation='ReLU'))\n",
    "# maxpooling1d layer is used to take maximum values from representation.\n",
    "model.add(layers.MaxPool1D(2))\n",
    "# adding a dropout of 0.4\n",
    "model.add(layers.Dropout(dropout))\n",
    "# defining a convolution layer, number of filters are set as 64 and kernal size is defined as 1 X 3.\n",
    "model.add(layers.Conv1D(64,3, activation='ReLU'))\n",
    "# maxpooling1d layer is used to take maximum values from representation.\n",
    "model.add(layers.MaxPooling1D(2, strides= 2))\n",
    "# adding a dropout of 0.4\n",
    "model.add(layers.Dropout(dropout))\n",
    "# defining an LSTM layer with 64 units\n",
    "model.add(layers.LSTM(64,return_sequences=True))\n",
    "# defining an LSTM layer with 32 units\n",
    "model.add(layers.LSTM(32,return_sequences=True))\n",
    "#Flatten layer\n",
    "model.add(layers.Flatten())\n",
    "\n",
    "# dense layer with 64 neurons and ReLu activation function\n",
    "model.add(layers.Dense(64, activation='ReLU'))\n",
    "model.add(layers.Dropout(dropout))\n",
    "# dense layer with 64 neurons and ReLu activation function\n",
    "model.add(layers.Dense(16, activation='ReLU'))\n",
    "model.add(layers.Dropout(dropout))\n",
    "# output layer with 1 neurons and sigmoid activation function for binary classification\n",
    "model.add(layers.Dense(1, activation='sigmoid'))\n",
    "# compile model\n",
    "model.compile(optimizer='adam', loss='binary_crossentropy', metrics=['acc'])\n",
    "\n",
    "del embedding_matrix # delete the embedding matrix to free up RAM."
   ]
  },
  {
   "cell_type": "code",
   "execution_count": 25,
   "id": "4907aba2",
   "metadata": {
    "colab": {
     "base_uri": "https://localhost:8080/"
    },
    "executionInfo": {
     "elapsed": 11,
     "status": "ok",
     "timestamp": 1686362680626,
     "user": {
      "displayName": "Harish Sundaralingam",
      "userId": "10841756153612022352"
     },
     "user_tz": 240
    },
    "id": "4907aba2",
    "outputId": "fc5c24d0-bec3-4f37-fa71-b2af369d7519"
   },
   "outputs": [
    {
     "name": "stdout",
     "output_type": "stream",
     "text": [
      "Model: \"sequential\"\n",
      "_________________________________________________________________\n",
      " Layer (type)                Output Shape              Param #   \n",
      "=================================================================\n",
      " embedding (Embedding)       (None, 1000, 300)         70178700  \n",
      "                                                                 \n",
      " conv1d (Conv1D)             (None, 996, 128)          192128    \n",
      "                                                                 \n",
      " max_pooling1d (MaxPooling1D  (None, 498, 128)         0         \n",
      " )                                                               \n",
      "                                                                 \n",
      " dropout (Dropout)           (None, 498, 128)          0         \n",
      "                                                                 \n",
      " conv1d_1 (Conv1D)           (None, 496, 64)           24640     \n",
      "                                                                 \n",
      " max_pooling1d_1 (MaxPooling  (None, 248, 64)          0         \n",
      " 1D)                                                             \n",
      "                                                                 \n",
      " dropout_1 (Dropout)         (None, 248, 64)           0         \n",
      "                                                                 \n",
      " lstm (LSTM)                 (None, 248, 64)           33024     \n",
      "                                                                 \n",
      " lstm_1 (LSTM)               (None, 248, 32)           12416     \n",
      "                                                                 \n",
      " flatten (Flatten)           (None, 7936)              0         \n",
      "                                                                 \n",
      " dense (Dense)               (None, 64)                507968    \n",
      "                                                                 \n",
      " dropout_2 (Dropout)         (None, 64)                0         \n",
      "                                                                 \n",
      " dense_1 (Dense)             (None, 16)                1040      \n",
      "                                                                 \n",
      " dropout_3 (Dropout)         (None, 16)                0         \n",
      "                                                                 \n",
      " dense_2 (Dense)             (None, 1)                 17        \n",
      "                                                                 \n",
      "=================================================================\n",
      "Total params: 70,949,933\n",
      "Trainable params: 771,233\n",
      "Non-trainable params: 70,178,700\n",
      "_________________________________________________________________\n"
     ]
    }
   ],
   "source": [
    "model.summary()"
   ]
  },
  {
   "cell_type": "code",
   "execution_count": 26,
   "id": "4e2d8ddb",
   "metadata": {
    "colab": {
     "base_uri": "https://localhost:8080/"
    },
    "executionInfo": {
     "elapsed": 508780,
     "status": "ok",
     "timestamp": 1686363189401,
     "user": {
      "displayName": "Harish Sundaralingam",
      "userId": "10841756153612022352"
     },
     "user_tz": 240
    },
    "id": "4e2d8ddb",
    "outputId": "999b78f7-8148-412d-ef16-237707abfd79"
   },
   "outputs": [
    {
     "name": "stdout",
     "output_type": "stream",
     "text": [
      "Epoch 1/15\n",
      "406/406 [==============================] - 48s 72ms/step - loss: 0.5038 - acc: 0.7424 - val_loss: 0.4349 - val_acc: 0.7883\n",
      "Epoch 2/15\n",
      "406/406 [==============================] - 28s 70ms/step - loss: 0.4273 - acc: 0.8024 - val_loss: 0.3891 - val_acc: 0.8281\n",
      "Epoch 3/15\n",
      "406/406 [==============================] - 29s 72ms/step - loss: 0.3622 - acc: 0.8471 - val_loss: 0.2998 - val_acc: 0.8754\n",
      "Epoch 4/15\n",
      "406/406 [==============================] - 28s 70ms/step - loss: 0.2808 - acc: 0.8897 - val_loss: 0.2701 - val_acc: 0.8848\n",
      "Epoch 5/15\n",
      "406/406 [==============================] - 30s 73ms/step - loss: 0.2190 - acc: 0.9172 - val_loss: 0.2147 - val_acc: 0.9147\n",
      "Epoch 6/15\n",
      "406/406 [==============================] - 29s 71ms/step - loss: 0.1876 - acc: 0.9286 - val_loss: 0.1987 - val_acc: 0.9205\n",
      "Epoch 7/15\n",
      "406/406 [==============================] - 30s 75ms/step - loss: 0.1615 - acc: 0.9402 - val_loss: 0.1938 - val_acc: 0.9293\n",
      "Epoch 8/15\n",
      "406/406 [==============================] - 29s 71ms/step - loss: 0.1488 - acc: 0.9449 - val_loss: 0.2030 - val_acc: 0.9248\n",
      "Epoch 9/15\n",
      "406/406 [==============================] - 30s 74ms/step - loss: 0.1377 - acc: 0.9509 - val_loss: 0.2483 - val_acc: 0.9177\n",
      "Epoch 10/15\n",
      "406/406 [==============================] - 30s 74ms/step - loss: 0.1240 - acc: 0.9539 - val_loss: 0.1997 - val_acc: 0.9295\n",
      "Epoch 11/15\n",
      "406/406 [==============================] - 29s 71ms/step - loss: 0.1083 - acc: 0.9598 - val_loss: 0.1963 - val_acc: 0.9357\n",
      "Epoch 12/15\n",
      "406/406 [==============================] - 29s 71ms/step - loss: 0.1053 - acc: 0.9627 - val_loss: 0.2119 - val_acc: 0.9329\n",
      "Epoch 13/15\n",
      "406/406 [==============================] - 29s 71ms/step - loss: 0.0953 - acc: 0.9662 - val_loss: 0.2151 - val_acc: 0.9387\n",
      "Epoch 14/15\n",
      "406/406 [==============================] - 30s 73ms/step - loss: 0.0931 - acc: 0.9672 - val_loss: 0.1993 - val_acc: 0.9333\n",
      "Epoch 15/15\n",
      "406/406 [==============================] - 30s 73ms/step - loss: 0.0873 - acc: 0.9689 - val_loss: 0.2043 - val_acc: 0.9406\n",
      "total training time: 508.62103390693665\n"
     ]
    }
   ],
   "source": [
    "# train the model\n",
    "import time as t\n",
    "start = t.time()\n",
    "history = model.fit(x_train, \n",
    "                    y_train,\n",
    "                    batch_size=128,initial_epoch=0,\n",
    "                    epochs=15,validation_data=(x_val, y_val))\n",
    "\n",
    "print(\"total training time:\",t.time()-start)"
   ]
  },
  {
   "cell_type": "code",
   "execution_count": 27,
   "id": "83a39566",
   "metadata": {
    "colab": {
     "base_uri": "https://localhost:8080/",
     "height": 472
    },
    "executionInfo": {
     "elapsed": 12,
     "status": "ok",
     "timestamp": 1686363189401,
     "user": {
      "displayName": "Harish Sundaralingam",
      "userId": "10841756153612022352"
     },
     "user_tz": 240
    },
    "id": "83a39566",
    "outputId": "54896858-8fea-40bc-d5fc-46305e990471"
   },
   "outputs": [
    {
     "data": {
      "image/png": "[encoded data removed]",
      "text/plain": [
       "<Figure size 640x480 with 1 Axes>"
      ]
     },
     "metadata": {},
     "output_type": "display_data"
    }
   ],
   "source": [
    "plt.plot(history.history['loss'])\n",
    "plt.plot(history.history['val_loss'])\n",
    "plt.plot(history.history['acc'])\n",
    "plt.plot(history.history['val_acc'])\n",
    "\n",
    "plt.title('Model accuracy / Loss')\n",
    "plt.xlabel('Epoch')\n",
    "plt.legend(['Training loss', 'Validation loss','Training Accuracy','Validation Accuracy'])\n",
    "plt.show()"
   ]
  },
  {
   "cell_type": "code",
   "execution_count": 28,
   "id": "9e108f27",
   "metadata": {
    "executionInfo": {
     "elapsed": 6,
     "status": "ok",
     "timestamp": 1686363189402,
     "user": {
      "displayName": "Harish Sundaralingam",
      "userId": "10841756153612022352"
     },
     "user_tz": 240
    },
    "id": "9e108f27"
   },
   "outputs": [],
   "source": [
    "from sklearn.metrics import accuracy_score,roc_auc_score,precision_score,recall_score,classification_report,roc_curve\n",
    "\n",
    "def evaluate_model(predict_fun, X_train, y_train, X_test, y_test):\n",
    "    '''\n",
    "    evaluate the model, both training and testing accuraries are reported\n",
    "    '''\n",
    "    # training acc\n",
    "    y_predict_train = predict_fun(X_train)\n",
    "    train_acc = accuracy_score(y_train,y_predict_train)\n",
    "    \n",
    "    # testing acc\n",
    "    y_predict_test = predict_fun(X_test)\n",
    "    test_acc = accuracy_score(y_test,y_predict_test)\n",
    "    \n",
    "\n",
    "    # accuracy = accuracy_score(y_test,y_pred_tex)\n",
    "    roc_auc =roc_auc_score(y_test, y_predict_test)\n",
    "    precision = precision_score(y_pred=y_predict_test, y_true=y_test,zero_division=1)\n",
    "    recall = recall_score(y_pred=y_predict_test, y_true=y_test,zero_division=1)\n",
    "    \n",
    "    cr = classification_report(y_test, y_predict_test,zero_division=1)\n",
    "\n",
    "\n",
    "    fpr, tpr, threshold = roc_curve(y_test, y_predict_test)\n",
    "    plt.plot([0,1], [0,1], 'k--')\n",
    "    plt.plot(fpr, tpr, label= 'Model')\n",
    "    plt.xlabel('False Positive Rate',fontsize=12)\n",
    "    plt.ylabel('True Positive Rate',fontsize=12)\n",
    "    plt.title('ROC Curve',fontsize=20)\n",
    "    plt.legend(fontsize=12)\n",
    "    plt.show()\n",
    "\n",
    "    roc_auc_sc = roc_auc_score(y_test,y_predict_test)\n",
    "\n",
    "    return train_acc, test_acc,cr,roc_auc_sc"
   ]
  },
  {
   "cell_type": "code",
   "execution_count": 29,
   "id": "3eaf85cc",
   "metadata": {
    "colab": {
     "base_uri": "https://localhost:8080/",
     "height": 756
    },
    "executionInfo": {
     "elapsed": 29959,
     "status": "ok",
     "timestamp": 1686363219743,
     "user": {
      "displayName": "Harish Sundaralingam",
      "userId": "10841756153612022352"
     },
     "user_tz": 240
    },
    "id": "3eaf85cc",
    "outputId": "5a0a0eb9-2314-49bf-e6f7-20f446b32360"
   },
   "outputs": [
    {
     "name": "stdout",
     "output_type": "stream",
     "text": [
      "1623/1623 [==============================] - 18s 10ms/step\n",
      "451/451 [==============================] - 6s 11ms/step\n"
     ]
    },
    {
     "data": {
      "image/png": "[encoded data removed]",
      "text/plain": [
       "<Figure size 640x480 with 1 Axes>"
      ]
     },
     "metadata": {},
     "output_type": "display_data"
    },
    {
     "name": "stdout",
     "output_type": "stream",
     "text": [
      "Training Accuracy: 98.92%\n",
      "Testing Accuracy: 93.67%\n",
      "Classification Report:\n",
      "               precision    recall  f1-score   support\n",
      "\n",
      "           0       0.93      0.94      0.93      6895\n",
      "           1       0.94      0.93      0.94      7532\n",
      "\n",
      "    accuracy                           0.94     14427\n",
      "   macro avg       0.94      0.94      0.94     14427\n",
      "weighted avg       0.94      0.94      0.94     14427\n",
      "\n",
      "AUC score 0.9368099829896671\n",
      "Total time required for testing 30.15152621269226\n"
     ]
    }
   ],
   "source": [
    "import time as t\n",
    "start = t.time()\n",
    "train_acc, test_acc,cr,roc_auc_sc = evaluate_model(lambda x: np.rint(model.predict(x)),\n",
    "                                     x_train, \n",
    "                                     y_train, \n",
    "                                     x_test, \n",
    "                                     y_test)\n",
    "print(\"Training Accuracy: {:.2f}%\".format(train_acc*100))\n",
    "print(\"Testing Accuracy: {:.2f}%\".format(test_acc*100))\n",
    "print(\"Classification Report:\\n\",cr)\n",
    "print(\"AUC score\",roc_auc_sc)\n",
    "print(\"Total time required for testing\",t.time()-start)"
   ]
  },
  {
   "cell_type": "code",
   "execution_count": 30,
   "id": "4KYtyNS4ClyM",
   "metadata": {
    "colab": {
     "base_uri": "https://localhost:8080/"
    },
    "executionInfo": {
     "elapsed": 10367,
     "status": "ok",
     "timestamp": 1686363230102,
     "user": {
      "displayName": "Harish Sundaralingam",
      "userId": "10841756153612022352"
     },
     "user_tz": 240
    },
    "id": "4KYtyNS4ClyM",
    "outputId": "6fd02eb7-7f65-4469-8611-a316fce31b5b"
   },
   "outputs": [
    {
     "name": "stdout",
     "output_type": "stream",
     "text": [
      "451/451 [==============================] - 6s 12ms/step - loss: 0.2128 - acc: 0.9367\n",
      "test loss, test acc: [0.212774857878685, 0.9367159008979797]\n"
     ]
    }
   ],
   "source": [
    "results = model.evaluate(x_test,y_test)\n",
    "print('test loss, test acc:', results)"
   ]
  }
 ],
 "metadata": {
  "accelerator": "GPU",
  "colab": {
   "gpuType": "T4",
   "provenance": []
  },
  "kernelspec": {
   "display_name": "Python 3",
   "name": "python3"
  },
  "language_info": {
   "name": "python"
  }
 },
 "nbformat": 4,
 "nbformat_minor": 5
}
